{
 "metadata": {
  "name": "1. Classificacao via Texto"
 }, 
 "nbformat": 2, 
 "worksheets": [
  {
   "cells": [
    {
     "cell_type": "markdown", 
     "source": [
      "## 1. Exemplo de classifica\u00e7\u00e3o de conte\u00fado via texto", 
      "Importa\u00e7\u00e3o das bibliotecas para importa\u00e7\u00e3o dos dados sem\u00e2nticos:"
     ]
    }, 
    {
     "cell_type": "code", 
     "collapsed": true, 
     "input": [
      "from SPARQLWrapper import SPARQLWrapper, JSON", 
      "import time"
     ], 
     "language": "python", 
     "outputs": [], 
     "prompt_number": 70
    }, 
    {
     "cell_type": "markdown", 
     "source": [
      "Defini\u00e7\u00e3o de prefixos \u00fateis para as triplas rdf:"
     ]
    }, 
    {
     "cell_type": "code", 
     "collapsed": true, 
     "input": [
      "PREFIX=\"\"\"PREFIX rdf: <http://www.w3.org/1999/02/22-rdf-syntax-ns#>", 
      "PREFIX rdfs: <http://www.w3.org/2000/01/rdf-schema#>", 
      "PREFIX ops: <http://purl.org/socialparticipation/ops#>", 
      "PREFIX opa: <http://purl.org/socialparticipation/opa#>", 
      "PREFIX foaf: <http://xmlns.com/foaf/0.1/>", 
      "PREFIX dc: <http://purl.org/dc/terms/>", 
      "PREFIX tsioc: <http://rdfs.org/sioc/types#>", 
      "PREFIX schema: <http://schema.org/>\"\"\""
     ], 
     "language": "python", 
     "outputs": [], 
     "prompt_number": 71
    }, 
    {
     "cell_type": "markdown", 
     "source": [
      "Buscando todos os coment\u00e1rios no endpoint SparQL disparado pelo Jena:"
     ]
    }, 
    {
     "cell_type": "code", 
     "collapsed": false, 
     "input": [
      "NOW=time.time()", 
      "q=\"SELECT ?comentario ?titulo ?texto WHERE \\", 
      "           {?comentario dc:type tsioc:Comment.\\", 
      "          OPTIONAL {?comentario dc:title ?titulo . }\\", 
      "           OPTIONAL {?comentario schema:text ?texto .}}\"", 
      "sparql3 = SPARQLWrapper(\"http://localhost:82/participabr/query\")", 
      "sparql3.setQuery(PREFIX+q)", 
      "sparql3.setReturnFormat(JSON)", 
      "results4 = sparql3.query().convert()", 
      "print(\"%.2f segundos para puxar todos os coment\u00e1rios do Participa.br\"%", 
      "        (time.time()-NOW,))"
     ], 
     "language": "python", 
     "outputs": [
      {
       "output_type": "stream", 
       "stream": "stdout", 
       "text": [
        "2.43 segundos para puxar todos os coment\u00e1rios do Participa.br"
       ]
      }
     ], 
     "prompt_number": 72
    }, 
    {
     "cell_type": "markdown", 
     "source": [
      "Removendo pontua\u00e7\u00e3o e fazendo lista de palavras:"
     ]
    }, 
    {
     "cell_type": "code", 
     "collapsed": false, 
     "input": [
      "msgs_=results4[\"results\"][\"bindings\"]", 
      "msgs=[mm for mm in msgs_ if (\"titulo\" not in mm.keys()) or", 
      "      ((\"teste de stress\" not in mm[\"titulo\"][\"value\"].lower())", 
      "      and (\"comunidade de desenvolvedores e nesse caso, quanto mais\"", 
      "           not in mm[\"texto\"][\"value\"].lower()))]", 
      "NOW=time.time()", 
      "import string, nltk as k", 
      "exclude = set(string.punctuation+u'\\u201c'+u'\\u2018'+u'\\u201d'+u'\\u2022'+u'\\u2013')", 
      "palavras=string.join([i[\"texto\"][\"value\"].lower() for i in msgs])", 
      "palavras = ''.join(ch for ch in palavras if ch not in exclude)", 
      "palavras_=palavras.split()", 
      "print(u\"feita lista de todas as palavras de todos os coment\u00e1rios em %.2f\"%", 
      "      (time.time()-NOW,))"
     ], 
     "language": "python", 
     "outputs": [
      {
       "output_type": "stream", 
       "stream": "stdout", 
       "text": [
        "feita lista de todas as palavras de todos os coment\u00e1rios em 0.20"
       ]
      }
     ], 
     "prompt_number": 82
    }, 
    {
     "cell_type": "markdown", 
     "source": [
      "Removendo stopwords e fazendo contagem das palavras restantes:"
     ]
    }, 
    {
     "cell_type": "code", 
     "collapsed": false, 
     "input": [
      "NOW=time.time()", 
      "stopwords = set(k.corpus.stopwords.words('portuguese'))", 
      "palavras__=[pp for pp in palavras_ if pp not in stopwords]", 
      "fdist_=k.FreqDist(palavras__)", 
      "print(\"retiradas stopwords feita contagem das palavras em %.2fs\"%", 
      "      (time.time()-NOW,))", 
      "for fd,ii in [(fdist_[i],i) for i in fdist_.keys()[:14]]: print fd, ii"
     ], 
     "language": "python", 
     "outputs": [
      {
       "output_type": "stream", 
       "stream": "stdout", 
       "text": [
        "retiradas stopwords feita contagem das palavras em 0.29s", 
        "1277 \u00e9", 
        "1256 n\u00e3o", 
        "762 ser", 
        "717 participa\u00e7\u00e3o", 
        "548 social", 
        "526 sociedade", 
        "468 \u00e0", 
        "459 sobre", 
        "367 governo", 
        "357 s\u00e3o", 
        "337 forma", 
        "327 pol\u00edticas", 
        "310 p\u00fablicas", 
        "302 brasil"
       ]
      }
     ], 
     "prompt_number": 74
    }, 
    {
     "cell_type": "code", 
     "collapsed": false, 
     "input": [
      "print(u\"s\u00e3o %i palavras em %i palavras diferentes\"%(len(palavras__),len(fdist_)))"
     ], 
     "language": "python", 
     "outputs": [
      {
       "output_type": "stream", 
       "stream": "stdout", 
       "text": [
        "s\u00e3o 91361 palavras em 14653 palavras diferentes"
       ]
      }
     ], 
     "prompt_number": 75
    }, 
    {
     "cell_type": "code", 
     "collapsed": true, 
     "input": [
      "# para radicalizar (lematiza\u00e7\u00e3o \u00e9 similar)", 
      "# NOW=time.time()", 
      "#stemmer = k.stem.RSLPStemmer()", 
      "#palavras___=[stemmer.stem(pp) for pp in palavras__]", 
      "#fdist__=k.FreqDist(palavras___)", 
      "#print(\"feita freq dist (radicalizada) em %.2f\"%(time.time()-NOW,))"
     ], 
     "language": "python", 
     "outputs": [], 
     "prompt_number": 76
    }, 
    {
     "cell_type": "markdown", 
     "source": [
      "Escolhendo as palavras mais frequentes para fazer caracteriza\u00e7\u00e3o das mensagens:"
     ]
    }, 
    {
     "cell_type": "code", 
     "collapsed": true, 
     "input": [
      "# escolhendo as 200 palavras mais frequentes", 
      "palavras_escolhidas=fdist_.keys()[:200]"
     ], 
     "language": "python", 
     "outputs": [], 
     "prompt_number": 77
    }, 
    {
     "cell_type": "markdown", 
     "source": [
      "Extraindo atributos (contagem das palavras) e fazendo classifica\u00e7\u00e3o bayesiana ing\u00eanua.", 
      "Note que os r\u00f3tulos \"pos\" e \"neg\" est\u00e3o sendo atribu\u00eddos ao acaso. Para aproveitamento,", 
      "\u00e9 necess\u00e1rio que sejam aproveitados os dados rotulados, provavelmente pelo pessoal da comunica\u00e7\u00e3o."
     ]
    }, 
    {
     "cell_type": "code", 
     "collapsed": true, 
     "input": [
      "def document_features(documento):", 
      "    features={}", 
      "    for palavra in palavras_escolhidas:", 
      "        features[\"contains(%s)\"%(palavra,)]=(palavra in documento)", 
      "    return features", 
      "msgsP= [(rr[\"texto\"][\"value\"],\"pos\") for rr in msgs[:500]]", 
      "msgsN=[(rr[\"texto\"][\"value\"],\"neg\") for rr in msgs[500:1000]]", 
      "msgsT=msgsP+msgsN", 
      "random.shuffle(msgsT)", 
      "feature_sets=[(document_features(msg[0]),msg[1]) for msg in msgsT]", 
      "train_set, test_set = feature_sets[:500], feature_sets[500:]", 
      "classifier = k.NaiveBayesClassifier.train(train_set)"
     ], 
     "language": "python", 
     "outputs": [], 
     "prompt_number": 78
    }, 
    {
     "cell_type": "markdown", 
     "source": [
      "Mostrando as caracter\u00edsticas mais informativas:"
     ]
    }, 
    {
     "cell_type": "code", 
     "collapsed": false, 
     "input": [
      "classifier.show_most_informative_features(5)"
     ], 
     "language": "python", 
     "outputs": [
      {
       "output_type": "stream", 
       "stream": "stdout", 
       "text": [
        "Most Informative Features", 
        "        contains(comit\u00ea) = True              pos : neg    =      4.1 : 1.0", 
        "          contains(hoje) = True              pos : neg    =      4.0 : 1.0", 
        "         contains(sa\u00fade) = True              neg : pos    =      3.1 : 1.0", 
        "        contains(sugiro) = True              neg : pos    =      2.7 : 1.0", 
        "         contains(grupo) = True              pos : neg    =      2.4 : 1.0"
       ]
      }
     ], 
     "prompt_number": 79
    }, 
    {
     "cell_type": "markdown", 
     "source": [
      "Precis\u00e3o nos dados de teste dummy $\\approx 0.5$ pois os r\u00f3tulos n\u00e3o foram atribu\u00eddos com dados reais."
     ]
    }, 
    {
     "cell_type": "code", 
     "collapsed": false, 
     "input": [
      "k.classify.accuracy(classifier, test_set)"
     ], 
     "language": "python", 
     "outputs": [
      {
       "output_type": "pyout", 
       "prompt_number": 80, 
       "text": [
        "0.526"
       ]
      }
     ], 
     "prompt_number": 80
    }, 
    {
     "cell_type": "markdown", 
     "source": [
      "Classifica\u00e7\u00e3o de um documento:"
     ]
    }, 
    {
     "cell_type": "code", 
     "collapsed": false, 
     "input": [
      "classifier.classify(document_features(msgsT[12][0]))"
     ], 
     "language": "python", 
     "outputs": [
      {
       "output_type": "pyout", 
       "prompt_number": 81, 
       "text": [
        "'neg'"
       ]
      }
     ], 
     "prompt_number": 81
    }, 
    {
     "cell_type": "markdown", 
     "source": [
      "### |||--- FIM ---||| ###"
     ]
    }
   ]
  }
 ]
}