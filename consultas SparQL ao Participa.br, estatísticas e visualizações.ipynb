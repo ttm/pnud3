{
 "metadata": {
  "name": "consultas SparQL ao Participa.br, estat\u00edsticas e visualiza\u00e7\u00f5es"
 }, 
 "nbformat": 2, 
 "worksheets": [
  {
   "cells": [
    {
     "cell_type": "markdown", 
     "source": [
      "### Este script \u00e9 dedicado a consultas SparQL aos dados do Participa.br.", 
      "A an\u00e1lise est\u00e1 assim dividida:", 
      "", 
      "* quantidades", 
      "* estat\u00edsicas (propor\u00e7\u00f5es, m\u00e9dias e desvios, vari\u00e1veis aleat\u00f3rias)", 
      "* estruturas em rede e da linguagem", 
      "* classifica\u00e7\u00e3o de conte\u00fado"
     ]
    }, 
    {
     "cell_type": "code", 
     "collapsed": true, 
     "input": [
      "import rdflib as r, pylab as p, numpy as n, networkx as x, nltk as k"
     ], 
     "language": "python", 
     "outputs": [], 
     "prompt_number": 1
    }, 
    {
     "cell_type": "code", 
     "collapsed": true, 
     "input": [
      "g=r.Graph()", 
      "g.load(\"storeOpaPopulada.rdf\")"
     ], 
     "language": "python", 
     "outputs": [], 
     "prompt_number": 9
    }, 
    {
     "cell_type": "code", 
     "collapsed": false, 
     "input": [
      "sub=g.subjects()", 
      "sub_=[ss for ss in sub]"
     ], 
     "language": "python", 
     "outputs": [
      {
       "output_type": "pyout", 
       "prompt_number": 18, 
       "text": [
        "u'sao 35006 recursos registrados'"
       ]
      }
     ], 
     "prompt_number": 18
    }, 
    {
     "cell_type": "code", 
     "collapsed": false, 
     "input": [
      "print u\"s\u00e3o %i recursos registrados em %i triplas\"%(len(set(sub_)),len(sub_))"
     ], 
     "language": "python", 
     "outputs": [
      {
       "output_type": "stream", 
       "stream": "stdout", 
       "text": [
        "s\u00e3o 35006 recursos registrados em 276043 triplas"
       ]
      }
     ], 
     "prompt_number": 20
    }, 
    {
     "cell_type": "markdown", 
     "source": [
      "### S\u00e3o os recursos possuem URIs, assim como as propriedades e valores", 
      "Todas as informa\u00e7\u00f5es s\u00e3o especificadas atrav\u00e9s de triplas de URIs e dados:", 
      "(recurso,propriedade, valor), tamb\u00e9m escrita na forma (sujeito, predicado, objeto),", 
      "adotada pela rdflib. Cada tripla consiste de tr\u00eas partes:", 
      "", 
      "* Primeira parte: sujeito, recurso, v\u00e9rtice de partida, origem.", 
      "* Segunda parte: predicado, propriedade, rela\u00e7\u00e3o, arco, aresta.", 
      "* Terceira parte: objeto, valor, v\u00e9rtice de chegada, destino.", 
      "", 
      "Para maior informatividade, s\u00e3o usadas as URIs mais comuns, de", 
      "forma a compatibilizar os dados e integrar uma nuvem relevante,", 
      "por isso os prefixos RDF, SKOS, OPA, OPS, etc. As URIs usadas na", 
      "\"triplifica\u00e7\u00e3o\" dos dados do Participa.br est\u00e3o especificadas [neste documento](http://sourceforge.net/p/labmacambira/fimDoMundo/ci/master/tree/textos/SparQL/triplificaDisponibiliza.pdf?format=raw)"
     ]
    }, 
    {
     "cell_type": "code", 
     "collapsed": true, 
     "input": [
      "OPA=r.Namespace(\"http://purl.org/socialparticipation/opa#\")", 
      "OPS=r.Namespace(\"http://purl.org/socialparticipation/ops#\")"
     ], 
     "language": "python", 
     "outputs": [], 
     "prompt_number": 53
    }, 
    {
     "cell_type": "code", 
     "collapsed": false, 
     "input": [
      "participantes=[pessoa for pessoa in g.triples( (None, r.namespace.RDF.type, OPS.Participant) )]", 
      "for s,p,o in participantes[-5:]:", 
      "    print u\"%s \u00e9 um participante\"%s", 
      "    for ss,pp,nome in g.triples( (s, r.namespace.FOAF.name, None) ):", 
      "        print u\"cujo nome \u00e9: %s\\n\"%(nome,)"
     ], 
     "language": "python", 
     "outputs": [
      {
       "output_type": "stream", 
       "stream": "stdout", 
       "text": [
        "http://participa.br/profile/fernandapaulo \u00e9 um participante", 
        "cujo nome \u00e9: Fernanda dos Santos Paulo", 
        "", 
        "http://participa.br/profile/skarnio \u00e9 um participante", 
        "cujo nome \u00e9: Thiago Sk\u00e1rnio", 
        "", 
        "http://participa.br/profile/arlindo.almeida \u00e9 um participante", 
        "cujo nome \u00e9: Arlindo Jos\u00e9 Moura de Almeida", 
        "", 
        "http://participa.br/profile/jefferson \u00e9 um participante", 
        "cujo nome \u00e9: jefferson ganev", 
        "", 
        "http://participa.br/profile/daianelopes \u00e9 um participante", 
        "cujo nome \u00e9: daiane de oliveira lopes andrade"
       ]
      }
     ], 
     "prompt_number": 55
    }, 
    {
     "cell_type": "markdown", 
     "source": [
      "Usa-se SparQL para navegar e modificar informa\u00e7\u00f5es em RDF.", 
      "Por exemplo, para selecionar os nomes \"aname\" e \"bname\" de cada amizade,", 
      "exlicita-se que \"?a foaf:knows ?b\" e que os nomes s\u00e3o vinculados aos participantes", 
      "desta rela\u00e7\u00e3o."
     ]
    }, 
    {
     "cell_type": "code", 
     "collapsed": false, 
     "input": [
      "qres = g.query(", 
      "    \"\"\"SELECT DISTINCT ?aname ?bname", 
      "       WHERE {", 
      "          ?a foaf:knows ?b .", 
      "          ?a foaf:name ?aname .", 
      "          ?b foaf:name ?bname .", 
      "       }\"\"\")", 
      "amizades=[tripla for tripla in qres]", 
      "for amizade in amizades[:15]:", 
      "    #print amizade", 
      "    print(\"%s __ conhece __  %s\" % amizade)"
     ], 
     "language": "python", 
     "outputs": [
      {
       "output_type": "stream", 
       "stream": "stdout", 
       "text": [
        "Naum dos Santos __ conhece __  Tha\u00eds Lopes Rodrigues", 
        "Marcelo Branco __ conhece __  Vicente de Paula Blum de Oliveira", 
        "Paulo Marcello Marques __ conhece __  Fernanda Campos", 
        "Henrique Parra Parra Filho __ conhece __  Marcelo Branco", 
        "Luis Felipe Coimbra Costa __ conhece __  Juliana Hil\u00e1rio", 
        "La\u00eds Azeredo Alves __ conhece __  Helisane Mahlke", 
        "Daniel Chiaretti __ conhece __  ANA LUISA ZAGO DE MORAES", 
        "Daniel Pitangueira de Avelino __ conhece __  Celia Maria Farias Vieira", 
        "Silvia Regina Brand\u00e3o Salim __ conhece __  kelly cristina alves", 
        "Arthur de Moura Del Esposte __ conhece __  Fabio Teixeira", 
        "Joenio Costa __ conhece __  Aur\u00e9lio A. Heckert", 
        "Gustavo Belic Cherubina __ conhece __  LUCAS MOREIRA DE SOUSA", 
        "Isaac E. Batista __ conhece __  DIEGO DA SILVA BRITTO", 
        "Roberto Wohlke __ conhece __  Ana Claudia Schneider Andrade", 
        "fabricia girao cavalcante __ conhece __  Laura Zacher"
       ]
      }
     ], 
     "prompt_number": 44
    }, 
    {
     "cell_type": "code", 
     "collapsed": false, 
     "input": [
      "qres = g.query(", 
      "    \"\"\"SELECT DISTINCT ?gname", 
      "       WHERE {", 
      "          ?a rdf:type foaf:Group .", 
      "       }\"\"\")", 
      "grupos=[tripla for tripla in qres]", 
      "len(grupos)", 
      "#for amizade in amizades[:15]:", 
      "    #print amizade", 
      "#    print(\"%s __ conhece __  %s\" % amizade)"
     ], 
     "language": "python", 
     "outputs": [
      {
       "output_type": "pyout", 
       "prompt_number": 70, 
       "text": [
        "1"
       ]
      }
     ], 
     "prompt_number": 70
    }
   ]
  }
 ]
}