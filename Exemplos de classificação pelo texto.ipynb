{
 "metadata": {
  "name": "Exemplos de classifica\u00e7\u00e3o pelo texto"
 }, 
 "nbformat": 2, 
 "worksheets": [
  {
   "cells": [
    {
     "cell_type": "code", 
     "collapsed": true, 
     "input": [
      "from SPARQLWrapper import SPARQLWrapper, JSON", 
      "import time, numpy as n"
     ], 
     "language": "python", 
     "outputs": [], 
     "prompt_number": 76
    }, 
    {
     "cell_type": "code", 
     "collapsed": true, 
     "input": [
      "PREFIX=\"\"\"PREFIX rdf: <http://www.w3.org/1999/02/22-rdf-syntax-ns#>", 
      "PREFIX rdfs: <http://www.w3.org/2000/01/rdf-schema#>", 
      "PREFIX ops: <http://purl.org/socialparticipation/ops#>", 
      "PREFIX opa: <http://purl.org/socialparticipation/opa#>", 
      "PREFIX foaf: <http://xmlns.com/foaf/0.1/>", 
      "PREFIX dc: <http://purl.org/dc/terms/>", 
      "PREFIX tsioc: <http://rdfs.org/sioc/types#>", 
      "PREFIX schema: <http://schema.org/>\"\"\""
     ], 
     "language": "python", 
     "outputs": [], 
     "prompt_number": 262
    }, 
    {
     "cell_type": "code", 
     "collapsed": false, 
     "input": [
      "NOW=time.time()", 
      "q=\"SELECT ?comentario ?titulo ?texto WHERE \\", 
      "           {?comentario dc:type tsioc:Comment.\\", 
      "          OPTIONAL {?comentario dc:title ?titulo . }\\", 
      "           OPTIONAL {?comentario schema:text ?texto .}}\"", 
      "sparql3 = SPARQLWrapper(\"http://localhost:82/participabr/query\")", 
      "sparql3.setQuery(PREFIX+q)", 
      "sparql3.setReturnFormat(JSON)", 
      "results4 = sparql3.query().convert()", 
      "print(\"%.2f segundos para puxar todos os coment\u00e1rios do Participa.br\"%(time.time()-NOW,))"
     ], 
     "language": "python", 
     "outputs": [
      {
       "output_type": "stream", 
       "stream": "stdout", 
       "text": [
        "2.41 segundos para puxar todos os coment\u00e1rios do Participa.br"
       ]
      }
     ], 
     "prompt_number": 10
    }, 
    {
     "cell_type": "code", 
     "collapsed": false, 
     "input": [
      "# fazendo sele\u00e7\u00e3o das mensagens com palavras maiores e limiar m\u00ednimo de palavras", 
      "msgs_=results4[\"results\"][\"bindings\"]", 
      "#msgs=[mm for mm in msgs_ if (\"titulo\" not in mm.keys()) or (\"teste de stress\" not in mm[\"titulo\"][\"value\"].lower())]", 
      "msgs=[mm for mm in msgs_ if (\"titulo\" not in mm.keys()) or ((\"teste de stress\" not in mm[\"titulo\"][\"value\"].lower())", 
      "      and (\"comunidade de desenvolvedores e nesse caso, quanto mais\" not in mm[\"texto\"][\"value\"].lower()))]", 
      "exclude = set(string.punctuation+u'\\u201c'+u'\\u2018'+u'\\u201d'+u'\\u2022'+u'\\u2013')", 
      "def atributos(__msg):", 
      "    texto=__msg[\"texto\"][\"value\"]", 
      "    texto_ = ''.join(ch for ch in texto if ch not in exclude)", 
      "    palavras=texto_.split()", 
      "    tams=[]", 
      "    for palavra in palavras:", 
      "        tams.append(len(palavra))", 
      "    return len(tams), n.mean(tams), n.std(tams)"
     ], 
     "language": "python", 
     "outputs": [], 
     "prompt_number": 288
    }, 
    {
     "cell_type": "code", 
     "collapsed": true, 
     "input": [
      "atrs=[]", 
      "for msg in msgs:", 
      "    atrs.append(atributos(msg))"
     ], 
     "language": "python", 
     "outputs": [], 
     "prompt_number": 289
    }, 
    {
     "cell_type": "code", 
     "collapsed": true, 
     "input": [
      "atrs_=n.array(atrs)"
     ], 
     "language": "python", 
     "outputs": [], 
     "prompt_number": 290
    }, 
    {
     "cell_type": "code", 
     "collapsed": false, 
     "input": [
      "max_palavras=115", 
      "min_palavras=110", 
      "n_msgs=((atrs_[:,0]>min_palavras)*(atrs_[:,0]<max_palavras)).sum()", 
      "print(u\"s\u00e3o %i mensagens com mais de %i palavras e menos de %i\"%", 
      "      (n_msgs, min_palavras, max_palavras) )"
     ], 
     "language": "python", 
     "outputs": [
      {
       "output_type": "stream", 
       "stream": "stdout", 
       "text": [
        "s\u00e3o 26 mensagens com mais de 110 palavras e menos de 115"
       ]
      }
     ], 
     "prompt_number": 291
    }, 
    {
     "cell_type": "code", 
     "collapsed": true, 
     "input": [
      "msgs_i=((atrs_[:,0]>min_palavras)*(atrs_[:,0]<max_palavras)).nonzero()[0]"
     ], 
     "language": "python", 
     "outputs": [], 
     "prompt_number": 292
    }, 
    {
     "cell_type": "markdown", 
     "source": [
      "##### Escolhendo os textos com m\u00e9dia de tamanho de palavra (em caracteres) maior que 6, dentre as mensagens com n\u00famero de palavras entre 110 e 115."
     ]
    }, 
    {
     "cell_type": "code", 
     "collapsed": false, 
     "input": [
      "textos=[[msgs[i][\"texto\"][\"value\"] for i in msgs_i][j]", 
      "        for j in (atrs_[msgs_i][:,1]>6.).nonzero()[0]]", 
      "for texto in textos: print texto+\"\\n=======\""
     ], 
     "language": "python", 
     "outputs": [
      {
       "output_type": "stream", 
       "stream": "stdout", 
       "text": [
        "1. Auxiliar na divulga\u00e7\u00e3o das informa\u00e7\u00f5es jur\u00eddicas para estrangeiros por meio de projetos de longo prazo dentro no \u00e2mbito das pr\u00f3prias universidades (ex. immigration/refugee law clinics), estimulando-se a parceria com as institui\u00e7\u00f5es, organiza\u00e7\u00f5es e programas/projetos relacionados \u00e0 tem\u00e1tica migrat\u00f3ria;", 
        "2. Inserir na nova pol\u00edtica migrat\u00f3ria a capacita\u00e7\u00e3o/forma\u00e7\u00e3o espec\u00edfica para agentes p\u00fablicos (obrigat\u00f3ria) que atuam ou possam vir a atuar em raz\u00e3o de suas atribui\u00e7\u00f5es institucionais com migrantes, refugiados e ap\u00e1tridas. Nesse sentido, a experi\u00eancia e contribui\u00e7\u00e3o da academia ser\u00e1 fundamental do ponto de vista da expertise cient\u00edfica (ensino e pesquisa - colabora\u00e7\u00e3o para o conte\u00fado program\u00e1tico da capacita\u00e7\u00e3o), al\u00e9m de refor\u00e7ar a import\u00e2ncia do ensino do Direito Internacional e Direitos Humanos nas Universidades.", 
        "", 
        "=======", 
        "ROSAS, Agostinho da Silva; MELO NETO, Jos\u00e9 Francisco de. Educa\u00e7\u00e3o Popular: Enunciados Te\u00f3ricos. Jo\u00e3o Pessoa: Editora Universit\u00e1ria da UFPB, 2008. ", 
        "", 
        "Os autores buscam delimitar um campo da educa\u00e7\u00e3o em que seja poss\u00edvel delinearem-se caracter\u00edsticas que apenas \u00e0 educa\u00e7\u00e3o popular fa\u00e7am parte. Trata-se de um esfor\u00e7o de apresenta\u00e7\u00e3o de constituintes com dimens\u00f5es formadoras, tendo como aspectos centrais as experi\u00eancias de v\u00e1rios educadores populares e as reflex\u00f5es em desenvolvimento na \u00e9poca. Nessa perspectiva, s\u00e3o abordadas a experi\u00eancia hist\u00f3rica, a cultura, o popular, a realidade, o trabalho, a autonomia, a liberdade e a igualdade como componentes fundantes para a realiza\u00e7\u00e3o de pr\u00e1ticas em educa\u00e7\u00e3o popular, lastreados pela dimens\u00e3o \u00e9tica do di\u00e1logo. ", 
        "", 
        "Dispon\u00edvel em: ", 
        "http://www.prac.ufpb.br/copac/extelar/producao_academica/livros/pa_l_2004_educacao_popular_enunciados_teoricos.pdf", 
        "======="
       ]
      }
     ], 
     "prompt_number": 293
    }, 
    {
     "cell_type": "markdown", 
     "source": [
      "##### Escolhendo os textos com m\u00e9dia de tamanho de palavra (em caracteres) menor que 5, dentre as mensagens com n\u00famero de palavras entre 110 e 115."
     ]
    }, 
    {
     "cell_type": "code", 
     "collapsed": false, 
     "input": [
      "textos=[[msgs[i][\"texto\"][\"value\"] for i in msgs_i.nonzero()[0]][j]", 
      "        for j in (atrs_[msgs_i][:,1]<5.).nonzero()[0]]", 
      "for texto in textos: print texto+\"\\n=======\""
     ], 
     "language": "python", 
     "outputs": [
      {
       "output_type": "stream", 
       "stream": "stdout", 
       "text": [
        "Este talvez seja o maior desafio que ainda os governos t\u00eam pela frente: a efetiva participa\u00e7\u00e3o social com o acompanhamento dos projetos e dos investimentos p\u00fablicos.", 
        "=======", 
        "Deve ficar clara a composi\u00e7\u00e3o para evitar nomea\u00e7\u00f5es enviesadas. ", 
        "=======", 
        "\u00c9 a sugest\u00e3o mais completa", 
        "======="
       ]
      }
     ], 
     "prompt_number": 294
    }, 
    {
     "cell_type": "code", 
     "collapsed": false, 
     "input": [
      "atrs_[:,0].shape"
     ], 
     "language": "python", 
     "outputs": [
      {
       "output_type": "pyout", 
       "prompt_number": 295, 
       "text": [
        "(1976,)"
       ]
      }
     ], 
     "prompt_number": 295
    }, 
    {
     "cell_type": "code", 
     "collapsed": false, 
     "input": [
      "import pylab as p", 
      "foo=", 
      "p.hist(atrs_[:,0],100, log=True)p.hist(atrs_[:,0],100, log=True)"
     ], 
     "language": "python", 
     "outputs": [
      {
       "output_type": "display_data", 
       "png": "[encoded data removed]"
      }
     ], 
     "prompt_number": 306
    }, 
    {
     "cell_type": "code", 
     "collapsed": false, 
     "input": [
      "#dados lidos, processando", 
      "NOW=time.time()", 
      "import string, nltk as k", 
      "# histograma com as palavras", 
      "#msgs_=results4[\"results\"][\"bindings\"]", 
      "#msgs=[mm for mm in msgs_ if (\"titulo\" not in mm.keys()) or (\"teste de stress\" not in mm[\"titulo\"][\"value\"].lower())]", 
      "palavras=string.join([i[\"texto\"][\"value\"].lower() for i in msgs])", 
      "exclude = set(string.punctuation+u'\\u201c'+u'\\u2018'+u'\\u201d'+u'\\u2022'+u'\\u2013')", 
      "palavras = ''.join(ch for ch in palavras if ch not in exclude)", 
      "palavras_=palavras.split()", 
      "#fdist=k.FreqDist(palavras_)", 
      "print(u\"feita lista de todas as palavras de todos os coment\u00e1rios em %.2f\"%(time.time()-NOW,))"
     ], 
     "language": "python", 
     "outputs": [
      {
       "output_type": "stream", 
       "stream": "stdout", 
       "text": [
        "feita lista de todas as palavras de todos os coment\u00e1rios em 0.54"
       ]
      }
     ], 
     "prompt_number": 241
    }, 
    {
     "cell_type": "code", 
     "collapsed": false, 
     "input": [
      "NOW=time.time()", 
      "stopwords = set(k.corpus.stopwords.words('portuguese'))", 
      "palavras__=[pp for pp in palavras_ if pp not in stopwords]", 
      "fdist_=k.FreqDist(palavras__)", 
      "print(\"retiradas stopwords feita contagem das palavras em %.2f\"%(time.time()-NOW,))"
     ], 
     "language": "python", 
     "outputs": [
      {
       "output_type": "stream", 
       "stream": "stdout", 
       "text": [
        "retiradas stopwords feita contagem das palavras em 0.71"
       ]
      }
     ], 
     "prompt_number": 242
    }, 
    {
     "cell_type": "code", 
     "collapsed": false, 
     "input": [
      "for fd,ii in [(fdist_[i],i) for i in fdist_.keys()[:20]]: print fd, ii"
     ], 
     "language": "python", 
     "outputs": [
      {
       "output_type": "stream", 
       "stream": "stdout", 
       "text": [
        "3275 \u00e9", 
        "3107 desenvolvimento", 
        "3050 software", 
        "3045 modelo", 
        "3026 simples", 
        "2079 sugiro", 
        "2015 requisitos", 
        "1998 github", 
        "1716 participa\u00e7\u00e3o", 
        "1356 s\u00e3o", 
        "1267 j\u00e1", 
        "1256 n\u00e3o", 
        "1170 p\u00fablico", 
        "1168 bem", 
        "1148 caso", 
        "1141 apenas", 
        "1119 todas", 
        "1115 brasileiro", 
        "1104 melhor", 
        "1099 grande"
       ]
      }
     ], 
     "prompt_number": 243
    }, 
    {
     "cell_type": "code", 
     "collapsed": false, 
     "input": [
      "for fd,ii in [(fdist_[i],i) for i in fdist_.keys()[20:40]]: print fd, ii"
     ], 
     "language": "python", 
     "outputs": [
      {
       "output_type": "stream", 
       "stream": "stdout", 
       "text": [
        "1088 livre", 
        "1085 etc", 
        "1078 desde", 
        "1076 quanto", 
        "1069 criar", 
        "1065 muitos", 
        "1061 nesse", 
        "1049 comunidade", 
        "1048 precisa", 
        "1046 medida", 
        "1037 existe", 
        "1028 entendo", 
        "1024 portal", 
        "1020 livres", 
        "1019 bastante", 
        "1017 necess\u00e1rias", 
        "1015 usar", 
        "1015 utilizado", 
        "1014 disponibilizar", 
        "1014 manter"
       ]
      }
     ], 
     "prompt_number": 245
    }, 
    {
     "cell_type": "code", 
     "collapsed": false, 
     "input": [
      "len(fdist_)"
     ], 
     "language": "python", 
     "outputs": [
      {
       "output_type": "pyout", 
       "prompt_number": 246, 
       "text": [
        "14663"
       ]
      }
     ], 
     "prompt_number": 246
    }, 
    {
     "cell_type": "code", 
     "collapsed": true, 
     "input": [
      "# faz feture vector com elas.", 
      "# escolhendo as 200 palavras mais frequentes", 
      "palavras_escolhidas=fdist_.keys()[:200]", 
      "# outras features que podemos escolher \u00e9:", 
      "# *) n\u00famero de palavras terminadas em a, o, e ou s", 
      "# *) tamanho m\u00e9dio das palavras utilizadas", 
      "# *) uso das stopwords"
     ], 
     "language": "python", 
     "outputs": [], 
     "prompt_number": 247
    }, 
    {
     "cell_type": "code", 
     "collapsed": true, 
     "input": [
      "def document_features(documento):", 
      "    features={}", 
      "    for palavra in palavras_escolhidas:", 
      "        features[\"contains(%s)\"%(palavra,)]=(palavra in documento)", 
      "    return features"
     ], 
     "language": "python", 
     "outputs": [], 
     "prompt_number": 248
    }, 
    {
     "cell_type": "code", 
     "collapsed": true, 
     "input": [
      "msgsP= [(rr[\"texto\"][\"value\"],\"pos\") for rr in msgs[:1000]]", 
      "msgsN=[(rr[\"texto\"][\"value\"],\"neg\") for rr in msgs[1000:2000]]", 
      "msgsT=msgsP+msgsN", 
      "random.shuffle(msgsT)", 
      "feature_sets=[(document_features(msg[0]),msg[1]) for msg in msgsT]", 
      "train_set, test_set = feature_sets[1000:], feature_sets[:1000]", 
      "classifier = k.NaiveBayesClassifier.train(train_set)"
     ], 
     "language": "python", 
     "outputs": [], 
     "prompt_number": 254
    }, 
    {
     "cell_type": "code", 
     "collapsed": true, 
     "input": [
      "# testar o classificador e aplicar"
     ], 
     "language": "python", 
     "outputs": [], 
     "prompt_number": 256
    }, 
    {
     "cell_type": "code", 
     "collapsed": true, 
     "input": [], 
     "language": "python", 
     "outputs": []
    }
   ]
  }
 ]
}