{
 "metadata": {
  "name": "acesso ao Jena"
 }, 
 "nbformat": 2, 
 "worksheets": [
  {
   "cells": [
    {
     "cell_type": "code", 
     "collapsed": true, 
     "input": [
      "from SPARQLWrapper import SPARQLWrapper, SPARQLWrapper2, JSON"
     ], 
     "language": "python", 
     "outputs": [], 
     "prompt_number": 55
    }, 
    {
     "cell_type": "code", 
     "collapsed": false, 
     "input": [
      "sparql = SPARQLWrapper(\"http://dbpedia.org/sparql\")", 
      "sparql.setQuery(\"\"\"", 
      "    PREFIX rdfs: <http://www.w3.org/2000/01/rdf-schema#>", 
      "    SELECT ?label", 
      "    WHERE { <http://dbpedia.org/resource/Love> rdfs:label ?label }", 
      "\"\"\")", 
      "sparql.setReturnFormat(JSON)", 
      "results = sparql.query().convert()", 
      "", 
      "for result in results[\"results\"][\"bindings\"]:", 
      "    print(result[\"label\"][\"value\"]+\", \"+result[\"label\"][\"xml:lang\"])"
     ], 
     "language": "python", 
     "outputs": [
      {
       "output_type": "stream", 
       "stream": "stdout", 
       "text": [
        "\u611b, zh", 
        "Liebe, de", 
        "Love, en", 
        "Amor, es", 
        "Amor, pt", 
        "Amour, fr", 
        "Amore, it", 
        "\u611b, ja", 
        "Liefde, nl", 
        "Mi\u0142o\u015b\u0107, pl", 
        "\u041b\u044e\u0431\u043e\u0432\u044c, ru", 
        "K\u00e4rlek, sv"
       ]
      }
     ], 
     "prompt_number": 62
    }, 
    {
     "cell_type": "code", 
     "collapsed": true, 
     "input": [
      "PREFIX=\"\"\"PREFIX rdf: <http://www.w3.org/1999/02/22-rdf-syntax-ns#>", 
      "PREFIX rdfs: <http://www.w3.org/2000/01/rdf-schema#>", 
      "PREFIX ops: <http://purl.org/socialparticipation/ops#>", 
      "PREFIX opa: <http://purl.org/socialparticipation/opa#>", 
      "PREFIX foaf: <http://xmlns.com/foaf/0.1/>", 
      "PREFIX dc: <http://purl.org/dc/terms/>", 
      "\"\"\"", 
      "q1=\"SELECT ?s WHERE {?s ?p ?o}\"", 
      "q2=\"SELECT ?nome WHERE {?s rdf:type ops:Participant . ?s foaf:name ?nome .}\""
     ], 
     "language": "python", 
     "outputs": [], 
     "prompt_number": 189
    }, 
    {
     "cell_type": "code", 
     "collapsed": true, 
     "input": [
      "#sparql3 = SPARQLWrapper(\"http://200.144.255.210:8082/participabr/query\")", 
      "sparql3 = SPARQLWrapper(\"http://localhost:82/participabr/query\")"
     ], 
     "language": "python", 
     "outputs": [], 
     "prompt_number": 95
    }, 
    {
     "cell_type": "code", 
     "collapsed": true, 
     "input": [
      "sparql3.setQuery(PREFIX+q2)", 
      "sparql3.setReturnFormat(JSON)"
     ], 
     "language": "python", 
     "outputs": [], 
     "prompt_number": 116
    }, 
    {
     "cell_type": "code", 
     "collapsed": false, 
     "input": [
      "results3 = sparql3.query().convert()"
     ], 
     "language": "python", 
     "outputs": [], 
     "prompt_number": 117
    }, 
    {
     "cell_type": "code", 
     "collapsed": false, 
     "input": [
      "results3[\"results\"][\"bindings\"][0]"
     ], 
     "language": "python", 
     "outputs": [
      {
       "output_type": "pyout", 
       "prompt_number": 118, 
       "text": [
        "{u'nome': {u'type': u'literal', u'value': u'morennosp31'}}"
       ]
      }
     ], 
     "prompt_number": 118
    }, 
    {
     "cell_type": "code", 
     "collapsed": false, 
     "input": [
      "for i in results3[\"results\"][\"bindings\"][-10:]: print(u\"participante: \" +i[\"nome\"][\"value\"])"
     ], 
     "language": "python", 
     "outputs": [
      {
       "output_type": "stream", 
       "stream": "stdout", 
       "text": [
        "participante: jonas.caetano", 
        "participante: Sandra Oliveira Teixeira", 
        "participante: wanderson9381", 
        "participante: M\u00e1rcia Ferreira", 
        "participante: Elias Jos\u00e9 da Silva", 
        "participante: Deise Karoline da Silva Costa", 
        "participante: F\u00e1bio Minghetti", 
        "participante: Ta\u00edsa da Rosa Barros Pro\u00eaza", 
        "participante: vinicius-tomazelli", 
        "participante: Rudy Almansa Silva"
       ]
      }
     ], 
     "prompt_number": 119
    }, 
    {
     "cell_type": "code", 
     "collapsed": true, 
     "input": [
      "q3=\"\"\"SELECT DISTINCT ?aname ?bname", 
      "       WHERE {", 
      "          ?a foaf:knows ?b .", 
      "          ?a foaf:name ?aname .", 
      "          ?b foaf:name ?bname .", 
      "       }\"\"\"", 
      "sparql3.setQuery(PREFIX+q3)", 
      "sparql3.setReturnFormat(JSON)", 
      "results4 = sparql3.query().convert()"
     ], 
     "language": "python", 
     "outputs": [], 
     "prompt_number": 121
    }, 
    {
     "cell_type": "code", 
     "collapsed": false, 
     "input": [
      "for i in results4[\"results\"][\"bindings\"][-10:]: print(i[\"aname\"][\"value\"]+u\" -- conhece -- \"+i[\"bname\"][\"value\"])", 
      "#for i in results3[\"results\"][\"bindings\"][-10:]: print(i)"
     ], 
     "language": "python", 
     "outputs": [
      {
       "output_type": "stream", 
       "stream": "stdout", 
       "text": [
        "Bertoni -- conhece -- Vicente Aguiar", 
        "Marina Arilha Silva -- conhece -- Grazielle Machado", 
        "Daniel Chiaretti -- conhece -- Bruno Vinicius Batista Arruda", 
        "Sabrina Piccoli Marques -- conhece -- Maria Jos\u00e9lia Amaral de Menezes", 
        "ANA LUISA ZAGO DE MORAES -- conhece -- Laura Madrid Sartoretto", 
        "Luciana Mara Lima Magalhaes -- conhece -- fabricia girao cavalcante", 
        "Florismar Oliveira Thomaz -- conhece -- Marco Ant\u00f4nio Ramos de Oliveira", 
        "Elizabeth Hernandez -- conhece -- Laura Zacher", 
        "Fidelis Paixao -- conhece -- Rafael de Almeida Ferreira", 
        "Daniel Pitangueira de Avelino -- conhece -- CARLOS LEONARDO KLEIN BARCELOS"
       ]
      }
     ], 
     "prompt_number": 122
    }, 
    {
     "cell_type": "code", 
     "collapsed": false, 
     "input": [
      "print(u\"s\u00e3o %s amizades e %s participantes\"%(len(results4[\"results\"][\"bindings\"]),len(results3[\"results\"][\"bindings\"])))"
     ], 
     "language": "python", 
     "outputs": [
      {
       "output_type": "stream", 
       "stream": "stdout", 
       "text": [
        "s\u00e3o 1820 amizades e 3624 participantes"
       ]
      }
     ], 
     "prompt_number": 124
    }, 
    {
     "cell_type": "markdown", 
     "source": [
      "### Por onde se conclui que as pessoas n\u00e3o acionaram suas amizades nesta rede ou realmente n\u00e3o se conhecem, por exemplo por serem de ambientes diversos."
     ]
    }, 
    {
     "cell_type": "code", 
     "collapsed": false, 
     "input": [
      "q4=\"\"\"SELECT (COUNT(DISTINCT ?instance) AS ?count) WHERE {", 
      "?instance rdf:type foaf:Group . ", 
      "}\"\"\"", 
      "sparql4 = SPARQLWrapper(\"http://localhost:82/participabr/query\")", 
      "sparql4.setQuery(PREFIX+q4)", 
      "sparql4.setReturnFormat(JSON)", 
      "results5 = sparql4.query().convert()"
     ], 
     "language": "python", 
     "outputs": [], 
     "prompt_number": 172
    }, 
    {
     "cell_type": "code", 
     "collapsed": false, 
     "input": [
      "print(u\"s\u00e3o %s grupos\"%(foo[\"bindings\"][0][\"count\"][\"value\"],))"
     ], 
     "language": "python", 
     "outputs": [
      {
       "output_type": "stream", 
       "stream": "stdout", 
       "text": [
        "s\u00e3o 33 grupos"
       ]
      }
     ], 
     "prompt_number": 178
    }, 
    {
     "cell_type": "code", 
     "collapsed": true, 
     "input": [
      "q5=\"\"\"SELECT (COUNT(?instance) AS ?count) WHERE {", 
      "?instance ops:performsParticipation ?foo . ", 
      "}\"\"\"", 
      "sparql5 = SPARQLWrapper(\"http://localhost:82/participabr/query\")", 
      "sparql5.setQuery(PREFIX+q5)", 
      "sparql5.setReturnFormat(JSON)", 
      "results6 = sparql5.query().convert()"
     ], 
     "language": "python", 
     "outputs": [], 
     "prompt_number": 179
    }, 
    {
     "cell_type": "code", 
     "collapsed": false, 
     "input": [
      "print(u\"s\u00e3o %s participa\u00e7\u00f5es\"%(results6[\"results\"][\"bindings\"][0][\"count\"][\"value\"],))"
     ], 
     "language": "python", 
     "outputs": [
      {
       "output_type": "stream", 
       "stream": "stdout", 
       "text": [
        "s\u00e3o 29775 participa\u00e7\u00f5es"
       ]
      }
     ], 
     "prompt_number": 185
    }, 
    {
     "cell_type": "code", 
     "collapsed": false, 
     "input": [
      "q6=\"\"\"SELECT ?trilha WHERE {", 
      "?trilha dc:type opa:ParticipationTrack . ", 
      "}\"\"\"", 
      "sparql6 = SPARQLWrapper(\"http://localhost:82/participabr/query\")", 
      "sparql6.setQuery(PREFIX+q6)", 
      "sparql6.setReturnFormat(JSON)", 
      "results7 = sparql6.query().convert()"
     ], 
     "language": "python", 
     "outputs": [], 
     "prompt_number": 197
    }, 
    {
     "cell_type": "code", 
     "collapsed": false, 
     "input": [
      "print(\"s\u00e3o %i trilhas, cujas URIs s\u00e3o: \"%(len(results7[\"results\"][\"bindings\"]),))", 
      "for i in results7[\"results\"][\"bindings\"]: print(i[\"trilha\"][\"value\"])"
     ], 
     "language": "python", 
     "outputs": [
      {
       "output_type": "stream", 
       "stream": "stdout", 
       "text": [
        "s\u00e3o 28 trilhas, cujas URIs s\u00e3o: ", 
        "http://participa.br/ouvidorias/sistema-de-ouvidorias-publicas-federais", 
        "http://participa.br/softwarepublico/regulamento-da-organizacao-e-funcionamento-dos-grupos-de-trabalho-novo", 
        "http://participa.br/monitoramento/pldo2015", 
        "http://participa.br/comigrar/consulta-virtual-conare", 
        "http://participa.br/governoaberto/proposta-de-criacao-do-grupo-de-trabalho-da-sociedade-civil", 
        "http://participa.br/comigrar/conferencia-virtual-da-defensoria-publica-da-uniao-sobre-migracoes-e-refugio", 
        "http://participa.br/comigrar/conferencia-sobre-refugio-imdh", 
        "http://participa.br/osc/cenarios-da-sociedade-civil-2023", 
        "http://participa.br/participacaosocial/construcao-da-politica-e-do-compromisso-nacional-para-a-participacao-social", 
        "http://participa.br/educultura/politica-nacional-de-educacao-popular", 
        "http://participa.br/comigrar/conferencia-virtual-da-associacao-dos-imigrantes-haitianos-no-brasil-aihb", 
        "http://participa.br/dadosabertos/deliberacoes-comite-gestor-da-inda", 
        "http://participa.br/osc/sustentabilidade-das-oscs", 
        "http://participa.br/ouvidorias/principios-orientadores-do-marco-legal-das-ouvidorias", 
        "http://participa.br/dadosabertos/dados-abertos-no-ministerio-da-justica", 
        "http://participa.br/softwarepublico/premio-acao-coletiva-regulamento", 
        "http://participa.br/comigrar/conferencia-virtual-sobre-o-novo-estatuto-do-estrangeiro", 
        "http://participa.br/comigrar/consulta-virtual-conatrap", 
        "http://participa.br/soberaniadigital/arranjos-produtivos-de-software-livre", 
        "http://participa.br/softwarepublico/processo-de-evolucao-do-portal-do-software-publico-brasileiro", 
        "http://participa.br/inclusaodigital/plano-de-curso-agente-de-inclusao-digital", 
        "http://participa.br/comigrar/consulta-virtual-cnig", 
        "http://participa.br/monitoramento/agendas-transversais-2012", 
        "http://participa.br/oficina-sobre-participa.br-teste/primeira-trilha-teste", 
        "http://participa.br/comigrar/consulta-virtual-conatrae", 
        "http://participa.br/comigrar/1a-conferencia-virtual-da-comigrar", 
        "http://participa.br/juventude/participatorio-observatorio-participativo-da-juventude", 
        "http://participa.br/workshop-fisl15/workshop-fisl15"
       ]
      }
     ], 
     "prompt_number": 199
    }, 
    {
     "cell_type": "code", 
     "collapsed": true, 
     "input": [
      "q7=\"\"\"SELECT ?etapa WHERE {", 
      "?etapa dc:type opa:ParticipationStep . ", 
      "}\"\"\"", 
      "sparql7 = SPARQLWrapper(\"http://localhost:82/participabr/query\")", 
      "sparql7.setQuery(PREFIX+q7)", 
      "sparql7.setReturnFormat(JSON)", 
      "results8 = sparql7.query().convert()"
     ], 
     "language": "python", 
     "outputs": [], 
     "prompt_number": 200
    }, 
    {
     "cell_type": "code", 
     "collapsed": false, 
     "input": [
      "print(u\"s\u00e3o %i etapas, cujas URIs s\u00e3o: \"%(len(results8[\"results\"][\"bindings\"]),))", 
      "for i in results8[\"results\"][\"bindings\"]: print(i[\"etapa\"][\"value\"])"
     ], 
     "language": "python", 
     "outputs": [
      {
       "output_type": "stream", 
       "stream": "stdout", 
       "text": [
        "s\u00e3o 77 etapas, cujas URIs s\u00e3o: ", 
        "http://participa.br/comigrar/conferencia-sobre-refugio-imdh/discussao-do-texto-xxxx", 
        "http://participa.br/osc/cenarios-da-sociedade-civil-2023/conversando-sobre-os-cenarios-ciranda", 
        "http://participa.br/workshop-fisl15/workshop-fisl15/etapa-2", 
        "http://participa.br/comunicacao-participa/mobilizacao-digital/apresentacao-de-ideias", 
        "http://participa.br/comigrar/conferencia-virtual-da-associacao-dos-imigrantes-haitianos-no-brasil-aihb/forum-da-aihb-para-discutir-e-formular-propostas", 
        "http://participa.br/osc/cenarios-da-sociedade-civil-2023/conversando-sobre-os-cenarios-passa-o-anel", 
        "http://participa.br/participacaosocial/construcao-da-politica-e-do-compromisso-nacional-para-a-participacao-social/compromisso-nacional-pela-participacao-social", 
        "http://participa.br/ouvidorias/principios-orientadores-do-marco-legal-das-ouvidorias/fase-tecnica", 
        "http://participa.br/ouvidorias/principios-orientadores-do-marco-legal-das-ouvidorias/forum-de-ouvidorias-publicas-e-privadas", 
        "http://participa.br/osc/sustentabilidade-das-oscs/priorizacao-de-ideias", 
        "http://participa.br/governoaberto/proposta-de-criacao-do-grupo-de-trabalho-da-sociedade-civil/consulta-publica-ogp-awards", 
        "http://participa.br/comunicacao-participa/trilha-modelo/etapa-de-consulta-ao-texto", 
        "http://participa.br/comigrar/1a-conferencia-virtual-da-comigrar/formulacao-das-propostas", 
        "http://participa.br/ouvidorias/principios-orientadores-do-marco-legal-das-ouvidorias/processo-participativo-virtual", 
        "http://participa.br/osc/marco-regulatorio-das-oscs-debata-o-projeto-de-lei/debatendo-o-pls-64911", 
        "http://participa.br/oficina-sobre-participa.br-teste/primeira-trilha-teste/forum-sobre-duvidas-gerais", 
        "http://participa.br/workshop-fisl15/workshop-fisl15/etapa-3", 
        "http://participa.br/softwarepublico/regulamento-da-organizacao-e-funcionamento-dos-grupos-de-trabalho-novo/regulamento-da-organizacao-e-funcionamento-dos-grupos-de-trabalho-novo", 
        "http://participa.br/comigrar/consulta-virtual-conatrae/envio-de-propostas", 
        "http://participa.br/comigrar/consulta-virtual-conatrap/envio-de-propostas", 
        "http://participa.br/comigrar/consulta-virtual-conare/envio-de-propostas", 
        "http://participa.br/softwarepublico/processo-de-evolucao-do-portal-do-software-publico-brasileiro/terceira-etapa-de-evolucao-do-portal-do-software-publico-brasileiro", 
        "http://participa.br/soberaniadigital/arranjos-produtivos-de-software-livre/cisl-planejamento-final-2013-2014", 
        "http://participa.br/monitoramento/agendas-transversais-2012/sumario-executivo", 
        "http://participa.br/governoaberto/proposta-de-criacao-do-grupo-de-trabalho-da-sociedade-civil/proposta-de-texto-da-resolucao-que-institui-o-gt-sociedade-civil", 
        "http://participa.br/comunicacao-participa/trilha-modelo/etapa-de-forum", 
        "http://participa.br/soberaniadigital/arranjos-produtivos-de-software-livre/oficina-de-software-livrecgee-mcti", 
        "http://participa.br/comunicacao-participa/ascom-participabr/passo-4", 
        "http://participa.br/soberaniadigital/arranjos-produtivos-de-software-livre/mapa-do-software-livre-no-brasil-etapa-2", 
        "http://participa.br/dadosabertos/deliberacoes-comite-gestor-da-inda/revisao-do-plano-de-acao-da-inda-2014", 
        "http://participa.br/workshop-fisl15/workshop-fisl15/etapa-1", 
        "http://participa.br/comunicacao-participa/ascom-participabr/etapa-1-testes-na-ferramenta", 
        "http://participa.br/osc/cenarios-da-sociedade-civil-2023/conversando-sobre-os-cenarios-amarelinha", 
        "http://participa.br/softwarepublico/processo-de-evolucao-do-portal-do-software-publico-brasileiro/primeira-etapa-de-evolucao-do-portal-do-software-publico-brasileiro", 
        "http://participa.br/educultura/politica-nacional-de-educacao-popular/forum-de-debate-educacao-popular-como-politica-publica", 
        "http://participa.br/comunicacao-participa/mobilizacao-digital/apresentacao-dos-primeiros-projetos-de-mobilizacao-digital", 
        "http://participa.br/ouvidorias/sistema-de-ouvidorias-publicas-federais/etapa-4-camaras-tecnicas-e-caravanas", 
        "http://participa.br/governoaberto/proposta-de-criacao-do-grupo-de-trabalho-da-sociedade-civil/ogp-awards", 
        "http://participa.br/educultura/politica-nacional-de-educacao-popular/consulta-politica-nacional-de-educacao-popular", 
        "http://participa.br/soberaniadigital/arranjos-produtivos-de-software-livre/consulta-sobre-arranjos-produtivos-de-software-livre", 
        "http://participa.br/inclusaodigital/plano-de-curso-agente-de-inclusao-digital/contribuicoes-ao-plano-de-curso-do-agente-de-inclusao-digital", 
        "http://participa.br/ouvidorias/sistema-de-ouvidorias-publicas-federais/etapa-2-fundamentos", 
        "http://participa.br/desenvolvimento-sustentavel/desenvolvimento-sustentavel/a-perspectiva-da-secretaria-geral-da-presidencia-da-republica-para-o-desenvolvimento-sustentavel-na-agenda-pos-2015", 
        "http://participa.br/comunicacao-participa/trilha-modelo/priorizacao-de-ideias-aos-pares", 
        "http://participa.br/comigrar/conferencia-virtual-da-associacao-dos-imigrantes-haitianos-no-brasil-aihb/sistematizacao-e-votacao-das-propostas-da-conferencia-da-aihb", 
        "http://participa.br/comunicacao-participa/ascom-participabr/etapa-3-conteudo", 
        "http://participa.br/oficina-sobre-participa.br-teste/primeira-trilha-teste/estudando-o-participa.br", 
        "http://participa.br/monitoramento/pldo2015/propostas", 
        "http://participa.br/comunicacao-participa/mobilizacao-digital/projetos-desenvolvidos-a-partir-das-primeiras-ideias", 
        "http://participa.br/comigrar/1a-conferencia-virtual-da-comigrar/priorizacao-de-propostas", 
        "http://participa.br/ouvidorias/principios-orientadores-do-marco-legal-das-ouvidorias/audiencia-publica", 
        "http://participa.br/monitoramento/pldo2015/relatorios", 
        "http://participa.br/osc/cenarios-da-sociedade-civil-2023/conversando-sobre-os-cenarios-o-mestre-mandou", 
        "http://participa.br/comigrar/conferencia-virtual-da-defensoria-publica-da-uniao-sobre-migracoes-e-refugio/2o-passo-formulacao-das-propostas-como-subsidios-a-politica-e-ao-plano-nacionais.", 
        "http://participa.br/ouvidorias/sistema-de-ouvidorias-publicas-federais/etapa-5-consolidacao-e-validacao", 
        "http://participa.br/comigrar/conferencia-virtual-sobre-o-novo-estatuto-do-estrangeiro/participe-enviando-seus-comentarios", 
        "http://participa.br/monitoramento/agendas-transversais-2012/relatorio", 
        "http://participa.br/comunicacao-participa/ascom-participabr/etapa-2-mobilizacao", 
        "http://participa.br/educultura/politica-nacional-de-educacao-popular/marco-de-referencia-da-educacao-popular-para-as-politicas-publicas", 
        "http://participa.br/dadosabertos/dados-abertos-no-ministerio-da-justica/consulta-publica-sobre-o-plano-institucional-de-dados-abertos-e-espaciais-do-ministerio-da-justica", 
        "http://participa.br/participacaosocial/construcao-da-politica-e-do-compromisso-nacional-para-a-participacao-social/politica-nacional-de-participacao-social", 
        "http://participa.br/soberaniadigital/arranjos-produtivos-de-software-livre/mapa-do-software-livre-no-brasil-etapa-1", 
        "http://participa.br/softwarepublico/premio-acao-coletiva-regulamento/regulamento-do-premio", 
        "http://participa.br/comigrar/conferencia-virtual-da-defensoria-publica-da-uniao-sobre-migracoes-e-refugio/1o-passo-debates-abertos-em-foruns-virtuais-sobre-as-tematicas-dos-eixos-tematicos-i-e-iv.", 
        "http://participa.br/dadosabertos/deliberacoes-comite-gestor-da-inda/revisao-do-plano-de-comunicacao-inda-2014", 
        "http://participa.br/comigrar/consulta-virtual-cnig/envio-de-propostas", 
        "http://participa.br/sipas-df/levantamento-sobre-legislacao-dos-conselhos/relatorio-sobre-legislacao-dos-conselhos", 
        "http://participa.br/monitoramento/pldo2015/area-de-debates", 
        "http://participa.br/ouvidorias/sistema-de-ouvidorias-publicas-federais/etapa-1-etapa-tecnica", 
        "http://participa.br/comigrar/1a-conferencia-virtual-da-comigrar/debate-aberto", 
        "http://participa.br/ouvidorias/sistema-de-ouvidorias-publicas-federais/etapa-3-consulta-publica", 
        "http://participa.br/softwarepublico/processo-de-evolucao-do-portal-do-software-publico-brasileiro/quarta-etapa-de-evolucao-do-portal-do-software-publico-brasileiro", 
        "http://participa.br/softwarepublico/processo-de-evolucao-do-portal-do-software-publico-brasileiro/segunda-etapa-de-evolucao-do-portal-do-software-publico-brasileiro", 
        "http://participa.br/comigrar/conferencia-virtual-da-defensoria-publica-da-uniao-sobre-migracoes-e-refugio/3o-passo-priorizacao-de-propostas-atraves-de-votacao-virtual", 
        "http://participa.br/dadosabertos/deliberacoes-comite-gestor-da-inda/propostas-da-sociedade-para-a-inda-2o-enda", 
        "http://participa.br/soberaniadigital/arranjos-produtivos-de-software-livre/mapa-do-software-livre-no-brasil-etapa-3", 
        "http://participa.br/desenvolvimento-sustentavel/desenvolvimento-sustentavel/participe-da-pos-2015-acrescentando-sua-opiniao"
       ]
      }
     ], 
     "prompt_number": 205
    }, 
    {
     "cell_type": "code", 
     "collapsed": true, 
     "input": [], 
     "language": "python", 
     "outputs": []
    }
   ]
  }
 ]
}