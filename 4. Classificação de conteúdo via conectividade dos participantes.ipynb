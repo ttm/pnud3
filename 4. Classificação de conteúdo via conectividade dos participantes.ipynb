{
 "metadata": {
  "name": "4. Classifica\u00e7\u00e3o de conte\u00fado via conectividade dos participantes"
 }, 
 "nbformat": 2, 
 "worksheets": [
  {
   "cells": [
    {
     "cell_type": "markdown", 
     "source": [
      "## 4. Classifica\u00e7\u00e3o de conte\u00fado via conectividade dos participantes"
     ]
    }, 
    {
     "cell_type": "markdown", 
     "source": [
      "Importadas as bibliotecas:"
     ]
    }, 
    {
     "cell_type": "code", 
     "collapsed": false, 
     "input": [
      "from SPARQLWrapper import SPARQLWrapper, JSON", 
      "import time, operator, numpy as n, networkx as x"
     ], 
     "language": "python", 
     "outputs": [], 
     "prompt_number": 10
    }, 
    {
     "cell_type": "markdown", 
     "source": [
      "Guardados os prefixos mais \u00fateis no dom\u00ednio:"
     ]
    }, 
    {
     "cell_type": "code", 
     "collapsed": false, 
     "input": [
      "PREFIX=\"\"\"PREFIX rdf: <http://www.w3.org/1999/02/22-rdf-syntax-ns#>", 
      "PREFIX rdfs: <http://www.w3.org/2000/01/rdf-schema#>", 
      "PREFIX ops: <http://purl.org/socialparticipation/ops#>", 
      "PREFIX opa: <http://purl.org/socialparticipation/opa#>", 
      "PREFIX foaf: <http://xmlns.com/foaf/0.1/>", 
      "PREFIX dc: <http://purl.org/dc/terms/>", 
      "PREFIX tsioc: <http://rdfs.org/sioc/types#>", 
      "PREFIX sioc: <http://rdfs.org/sioc/ns#>", 
      "PREFIX schema: <http://schema.org/>\"\"\""
     ], 
     "language": "python", 
     "outputs": [], 
     "prompt_number": 31
    }, 
    {
     "cell_type": "markdown", 
     "source": [
      "Baixadas todas as amizades do participa"
     ]
    }, 
    {
     "cell_type": "code", 
     "collapsed": false, 
     "input": [
      "NOW=time.time()", 
      "q=\"\"\"SELECT DISTINCT ?a ?b ?aname ?bname", 
      "       WHERE {", 
      "          ?a foaf:knows ?b .", 
      "          ?a foaf:name ?aname .", 
      "          ?b foaf:name ?bname .", 
      "       }\"\"\"", 
      "sparql3 = SPARQLWrapper(\"http://localhost:82/participabr/query\")", 
      "sparql3.setQuery(PREFIX+q)", 
      "sparql3.setReturnFormat(JSON)", 
      "results4 = sparql3.query().convert()", 
      "print(\"%.2f segundos para puxar todas as amizades do Participa.br\"%", 
      "      (time.time()-NOW,))"
     ], 
     "language": "python", 
     "outputs": [
      {
       "output_type": "stream", 
       "stream": "stdout", 
       "text": [
        "0.12 segundos para puxar todas as amizades do Participa.br"
       ]
      }
     ], 
     "prompt_number": 51
    }, 
    {
     "cell_type": "markdown", 
     "source": [
      "Feita rede de amizades do Participa.br:"
     ]
    }, 
    {
     "cell_type": "code", 
     "collapsed": false, 
     "input": [
      "g=x.Graph()", 
      "for amizade in results4[\"results\"][\"bindings\"]:", 
      "    nome1=amizade[\"a\"][\"value\"]", 
      "    nome2=amizade[\"b\"][\"value\"]", 
      "    g.add_edge(nome1,nome2)"
     ], 
     "language": "python", 
     "outputs": [], 
     "prompt_number": 52
    }, 
    {
     "cell_type": "markdown", 
     "source": [
      "Baixadas intera\u00e7\u00f5es no Participa.br:"
     ]
    }, 
    {
     "cell_type": "code", 
     "collapsed": false, 
     "input": [
      "NOW=time.time()", 
      "q2=\"\"\"SELECT ?participante1 ?participante2 ?aname ?bname", 
      "       WHERE {", 
      "           ?comentario dc:type tsioc:Comment.", 
      "           ?participante1 ops:performsParticipation ?comentario.", 
      "           ?participante1 foaf:name ?aname.", 
      "           ?artigo sioc:has_reply ?comentario.", 
      "           ?participante2 ops:performsParticipation ?artigo.", 
      "           ?participante2 foaf:name ?bname.", 
      "       }\"\"\"", 
      "sparql3.setQuery(PREFIX+q2)", 
      "sparql3.setReturnFormat(JSON)", 
      "results = sparql3.query().convert()", 
      "print(\"%.2f segundos para puxar as intera\u00e7\u00f5es do Participa.br\"%", 
      "      (time.time()-NOW,))"
     ], 
     "language": "python", 
     "outputs": [
      {
       "output_type": "stream", 
       "stream": "stdout", 
       "text": [
        "16.06 segundos para puxar as intera\u00e7\u00f5es do Participa.br"
       ]
      }
     ], 
     "prompt_number": 17
    }, 
    {
     "cell_type": "markdown", 
     "source": [
      "Feita rede de intera\u00e7\u00f5es:"
     ]
    }, 
    {
     "cell_type": "code", 
     "collapsed": false, 
     "input": [
      "d=x.DiGraph()", 
      "for interacao in results[\"results\"][\"bindings\"]:", 
      "    nome_chegada=interacao[\"participante1\"][\"value\"]", 
      "    nome_partida=interacao[\"participante2\"][\"value\"]", 
      "    if (nome_partida,nome_chegada) in d.edges():", 
      "        d[nome_partida][nome_chegada][\"weight\"]+=1", 
      "    else:", 
      "        d.add_edge(nome_partida,nome_chegada,weight=1.)"
     ], 
     "language": "python", 
     "outputs": [], 
     "prompt_number": 18
    }, 
    {
     "cell_type": "markdown", 
     "source": [
      "Listando os mais conectados para ver suas URIs e verificar bom andamento das buscas SparQL:"
     ]
    }, 
    {
     "cell_type": "code", 
     "collapsed": false, 
     "input": [
      "sorted_g = sorted(g.degree().iteritems(), key=operator.itemgetter(1))", 
      "sorted_g[::-1][:15]"
     ], 
     "language": "python", 
     "outputs": [
      {
       "output_type": "pyout", 
       "prompt_number": 53, 
       "text": [
        "[(u'http://participa.br/profile/marcelobranco', 122),", 
        " (u'http://participa.br/profile/mjade', 60),", 
        " (u'http://participa.br/profile/anita', 36),", 
        " (u'http://participa.br/profile/vicentedeaguiar', 35),", 
        " (u'http://participa.br/profile/laurazacher', 33),", 
        " (u'http://participa.br/profile/lfelipe', 32),", 
        " (u'http://participa.br/profile/ricardopoppi', 31),", 
        " (u'http://participa.br/profile/lucasmoreira', 30),", 
        " (u'http://participa.br/profile/ronald.costa', 29),", 
        " (u'http://participa.br/profile/valessiobrito', 27),", 
        " (u'http://participa.br/profile/grazi_machado', 20),", 
        " (u'http://participa.br/profile/decko', 20),", 
        " (u'http://participa.br/profile/rfabbri', 20),", 
        " (u'http://participa.br/profile/nilzetepacheco', 18),", 
        " (u'http://participa.br/profile/cclaro', 18)]"
       ]
      }
     ], 
     "prompt_number": 53
    }, 
    {
     "cell_type": "code", 
     "collapsed": false, 
     "input": [
      "sorted_d = sorted(d.degree().iteritems(), key=operator.itemgetter(1))", 
      "sorted_d[::-1][:15]"
     ], 
     "language": "python", 
     "outputs": [
      {
       "output_type": "pyout", 
       "prompt_number": 54, 
       "text": [
        "[(u'http://participa.br/profile/portal', 46),", 
        " (u'http://participa.br/profile/rfabbri', 26),", 
        " (u'http://participa.br/profile/gabriela', 19),", 
        " (u'http://participa.br/profile/hyltonsarcinelliluz', 15),", 
        " (u'http://participa.br/profile/fadia', 13),", 
        " (u'http://participa.br/profile/grazi_machado', 12),", 
        " (u'http://participa.br/profile/josefurtado', 11),", 
        " (u'http://participa.br/profile/andre61', 11),", 
        " (u'http://participa.br/profile/davelino', 10),", 
        " (u'http://participa.br/profile/parrahenri', 9),", 
        " (u'http://participa.br/profile/julianogeraldi', 8),", 
        " (u'http://participa.br/profile/capuano', 7),", 
        " (u'http://participa.br/profile/kodama', 7),", 
        " (u'http://participa.br/profile/ibebrasil', 7),", 
        " (u'http://participa.br/profile/thiagozoroastro', 7)]"
       ]
      }
     ], 
     "prompt_number": 54
    }, 
    {
     "cell_type": "markdown", 
     "source": [
      "Pode-se selecionar mensagens de perif\u00e9ricos, hubs e intermedi\u00e1rios. Por simplicidade,", 
      "aqui est\u00e3o 5 mensagens dos 5 mais conectados nas **atividades**:"
     ]
    }, 
    {
     "cell_type": "code", 
     "collapsed": false, 
     "input": [
      "uris=[i[0] for i in sorted_d[::-1][:5]]", 
      "for uri in uris:", 
      "    q=\"\"\" SELECT ?texto", 
      "       WHERE {", 
      "          ?comentario dc:creator <%s> .", 
      "          ?comentario dc:type tsioc:Comment.", 
      "          ?comentario schema:text ?texto .", 
      "       } LIMIT 2\"\"\"%(uri,)", 
      "    #print q", 
      "    sparql3.setQuery(PREFIX+q)", 
      "    results4 = sparql3.query().convert()", 
      "    #print results4", 
      "    print \"\\n\"", 
      "    try:", 
      "        print uri+\"\\n\"+ results4[\"results\"][\"bindings\"][0][\"texto\"][\"value\"]", 
      "    except:", 
      "        pass"
     ], 
     "language": "python", 
     "outputs": [
      {
       "output_type": "stream", 
       "stream": "stdout", 
       "text": [
        "", 
        "", 
        "", 
        "", 
        "http://participa.br/profile/rfabbri", 
        "que \u00f3rg\u00e3os, de que programas?", 
        "", 
        "", 
        "http://participa.br/profile/gabriela", 
        "N\u00e3o pode esquecer da gest\u00e3o democr\u00e1tica nas universidades e institui\u00e7\u00f5es de ensino.", 
        "Vale a pena mencionnar isso espqecificamente, porque j\u00e1 tem lei prevendo, mas na pr\u00e1tica n\u00e3o acontece.", 
        "", 
        "", 
        "http://participa.br/profile/hyltonsarcinelliluz", 
        "Apoio a sugest\u00e3o de incluir o termo &amp;quot;Controle&amp;quot; ao nome da politica em pauta, com vista a uniformizar a conceitua\u00e7\u00e3o, visto que j\u00e1 existe e \u00e9 difundido o termo &amp;quot;controle social&amp;quot; para pol\u00edticas p\u00fablicas, no qual se insere a participa\u00e7\u00e3o em debate.", 
        "", 
        "", 
        "", 
        "http://participa.br/profile/fadia", 
        "O termo participa\u00e7\u00e3o j\u00e1 est\u00e1 em ampla utiliza\u00e7\u00e3o no \u00e2mbito dos governos, apropriado inclusive pelo capital. O que se questiona \u00e9 o que se entende por essa participa\u00e7\u00e3o e o que se quer \u00e9 a efetiva\u00e7\u00e3o da participa\u00e7\u00e3o. Concordo com a inser\u00e7\u00e3o do termo controle.", 
        "", 
        "Pol\u00edtica Nacional para Efetiva\u00e7\u00e3o do Controle e Participa\u00e7\u00e3o Social"
       ]
      }
     ], 
     "prompt_number": 55
    }, 
    {
     "cell_type": "markdown", 
     "source": [
      "Pode-se selecionar mensagens de perif\u00e9ricos, hubs e intermedi\u00e1rios. Por simplicidade,", 
      "aqui est\u00e3o 5 mensagens dos 5 mais conectados nas **amizades**:"
     ]
    }, 
    {
     "cell_type": "code", 
     "collapsed": false, 
     "input": [
      "uris=[i[0] for i in sorted_g[::-1][:5]]", 
      "for uri in uris:", 
      "    q=\"\"\" SELECT ?texto", 
      "       WHERE {", 
      "          ?comentario dc:creator <%s> .", 
      "          ?comentario dc:type tsioc:Comment.", 
      "          ?comentario schema:text ?texto .", 
      "       } LIMIT 2\"\"\"%(uri,)", 
      "    #print q", 
      "    sparql3.setQuery(PREFIX+q)", 
      "    results4 = sparql3.query().convert()", 
      "    #print results4", 
      "    print \"\\n\"", 
      "    try:", 
      "        print uri+\"\\n\"+ results4[\"results\"][\"bindings\"][0][\"texto\"][\"value\"]", 
      "    except:", 
      "        pass"
     ], 
     "language": "python", 
     "outputs": [
      {
       "output_type": "stream", 
       "stream": "stdout", 
       "text": [
        "", 
        "", 
        "http://participa.br/profile/marcelobranco", 
        "Uma foto ou figura em cada post ficaria muito melhor. ", 
        "", 
        "", 
        "", 
        "", 
        "http://participa.br/profile/anita", 
        "Oiiii Ronald!!! ", 
        "", 
        "", 
        "http://participa.br/profile/vicentedeaguiar", 
        "Por exemplo, essa sua resposta que voc\u00ea fez no meu coment\u00e1rio, eu n\u00e3o consigo visualizar no mural, s\u00f3 diretamente no artigo. Voc\u00ea consegue ver no mural essa minha resposta agora? Se sim, pode ser problema na vers\u00e3o do CSS para Firefox 25.0.1. ", 
        "", 
        "", 
        "http://participa.br/profile/laurazacher", 
        "Sejam muito bem-vindos!", 
        "", 
        "Iniciamos a Confer\u00eancia Virtual da DPU sobre Migra\u00e7\u00f5es e Ref\u00fagio j\u00e1 com uma importante discuss\u00e3o!", 
        "", 
        "Aproveito o in\u00edcio da discuss\u00e3o reiterando a manifesta\u00e7\u00e3o da Dra. Ana Luisa e repassando algumas orienta\u00e7\u00f5es para organizarmos o processo de discuss\u00e3o coletiva:", 
        "", 
        "- Inicialmente, a discuss\u00e3o ser\u00e1 em sentido amplo; contudo, conforme a discuss\u00e3o avan\u00e7ar, \u00e9 preciso que os t\u00f3picos postados indiquem (1) a qual dos eixos tem\u00e1ticos est\u00e3o vinculados, (2) a qual bloco est\u00e1 contemplando; (3) qual tem\u00e1tica aborda.", 
        "", 
        "Exemplo: Discuss\u00e3o proposta sobre expuls\u00e3o: inlcuir no t\u00edtulo da mensagem:", 
        "", 
        "Eixo Tem\u00e1tico n\u00ba (I ou IV) - Bloco: Mudan\u00e7as Legislativas - Tema: Expuls\u00e3o", 
        "", 
        "Relembro os eixos tem\u00e1ticos a serem discutidos na Confer\u00eancia da DPU:", 
        "", 
        "Eixo I - Igualdade de tratamento e acesso a servi\u00e7os e direitos;", 
        "", 
        "Eixo IV - Abordagem de viola\u00e7\u00f5es de direitos e meios de preven\u00e7\u00e3o e prote\u00e7\u00e3o, no qual tamb\u00e9m ser\u00e1 discutido o Subtema -  Enfrentamento ao Sequestro/ Subtra\u00e7\u00e3o Internacional de Crian\u00e7as e ", 
        "a aplica\u00e7\u00e3o da Conven\u00e7\u00e3o de Haia de 1980 sobre os Aspectos Civis do Sequestro Internacional de Crian\u00e7as.", 
        "", 
        "Em cada uma das mensagens postadas, favor indicar a qual dos blocos propostos est\u00e1 vinculada: ", 
        "", 
        "(a) mudan\u00e7as legislativas (lei em sentido amplo); ", 
        "(b) pol\u00edticas p\u00fablicas; ", 
        "(c) atua\u00e7\u00e3o e estrutura\u00e7\u00e3o da DPU para assist\u00eancia ao migrante.", 
        "", 
        "- Estas orienta\u00e7\u00f5es visam facilitar o processo de sistematiza\u00e7\u00e3o das propostas. Para ilustrar o produto final da sistematiza\u00e7\u00e3o, deixo o link para o Caderno de Propostas da 1\u00aa Confer\u00eancia Nacional de Seguran\u00e7a P\u00fablica, cujo modelo de confer\u00eancia \u00e9 a base da atual Comigrar: ", 
        " ", 
        "http://www.ipea.gov.br/participacao/images/pdfs/conferencias/Seguranca_Publica/caderno_propostas_1_conferencia_seguranca_publica.pdf", 
        "", 
        "- Informa\u00e7\u00f5es sobre os eixos tem\u00e1ticos e sobre o processo da Confer\u00eancia podem ser obtidas atrav\u00e9s do Manual do Participante: http://www.dpu.gov.br/images/stories/arquivos/PDF/Manual_do_Participante_-_DPU_-_COMIGRAR.pdf ", 
        "", 
        "- Qualquer d\u00favida sobre o processo da Confer\u00eancia, favor entrar em contato atrav\u00e9s do telefone (51) 3216-6961 e/ou do correio eletr\u00f4nico comigrar@dpu.gov.br.", 
        "", 
        "Vamos construir uma pol\u00edtica migrat\u00f3ria com Justi\u00e7a e Igualdade para todos!"
       ]
      }
     ], 
     "prompt_number": 56
    }, 
    {
     "cell_type": "markdown", 
     "source": [
      "### |||--- FIM ---||| ###"
     ]
    }
   ]
  }
 ]
}