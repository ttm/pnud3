{
 "metadata": {
  "name": "pnud4-ap"
 }, 
 "nbformat": 2, 
 "worksheets": [
  {
   "cells": [
    {
     "cell_type": "code", 
     "collapsed": false, 
     "input": [
      "from SPARQLWrapper import SPARQLWrapper, JSON", 
      "import cPickle as pickle"
     ], 
     "language": "python", 
     "outputs": [], 
     "prompt_number": 12
    }, 
    {
     "cell_type": "code", 
     "collapsed": true, 
     "input": [
      "URL_ENDPOINT=\"http://localhost:82/\"", 
      "URL_ENDPOINT_=URL_ENDPOINT+\"participabr/query\"", 
      "PREFIX=\"\"\"PREFIX rdf: <http://www.w3.org/1999/02/22-rdf-syntax-ns#>", 
      "PREFIX rdfs: <http://www.w3.org/2000/01/rdf-schema#>", 
      "PREFIX ops: <http://purl.org/socialparticipation/ops#>", 
      "PREFIX opa: <http://purl.org/socialparticipation/opa#>", 
      "PREFIX foaf: <http://xmlns.com/foaf/0.1/>", 
      "PREFIX dc: <http://purl.org/dc/terms/>", 
      "PREFIX tsioc: <http://rdfs.org/sioc/types#>", 
      "PREFIX sioc: <http://rdfs.org/sioc/ns#>", 
      "PREFIX schema: <http://schema.org/>\"\"\""
     ], 
     "language": "python", 
     "outputs": [], 
     "prompt_number": 3
    }, 
    {
     "cell_type": "code", 
     "collapsed": true, 
     "input": [
      "q=\"\"\"SELECT ?participant", 
      "       WHERE {", 
      "          <http://participa.br/> dc:contributor ?participant.", 
      "       }\"\"\"", 
      "sparql=SPARQLWrapper(URL_ENDPOINT_)", 
      "sparql.setQuery(PREFIX+q)", 
      "sparql.setReturnFormat(JSON)", 
      "results = sparql.query().convert()"
     ], 
     "language": "python", 
     "outputs": [], 
     "prompt_number": 19
    }, 
    {
     "cell_type": "code", 
     "collapsed": false, 
     "input": [
      "results_=results[\"results\"][\"bindings\"]", 
      "participantes=[i[\"participant\"][\"value\"] for i in results_]"
     ], 
     "language": "python", 
     "outputs": [], 
     "prompt_number": 20
    }, 
    {
     "cell_type": "code", 
     "collapsed": false, 
     "input": [
      "len(participantes)"
     ], 
     "language": "python", 
     "outputs": [
      {
       "output_type": "pyout", 
       "prompt_number": 21, 
       "text": [
        "3825"
       ]
      }
     ], 
     "prompt_number": 21
    }, 
    {
     "cell_type": "code", 
     "collapsed": false, 
     "input": [
      "g=pickle.load( open( \"pickledir/g.p\", \"rb\" ) )", 
      "d=pickle.load( open( \"pickledir/d.p\", \"rb\" ) )", 
      "bows=pickle.load( open( \"pickledir/bows.p\", \"rb\" ) )"
     ], 
     "language": "python", 
     "outputs": [], 
     "prompt_number": 22
    }, 
    {
     "cell_type": "code", 
     "collapsed": false, 
     "input": [
      "len(bows)"
     ], 
     "language": "python", 
     "outputs": [
      {
       "output_type": "pyout", 
       "prompt_number": 23, 
       "text": [
        "3825"
       ]
      }
     ], 
     "prompt_number": 23
    }, 
    {
     "cell_type": "code", 
     "collapsed": false, 
     "input": [
      "com_rastro=[part for part in participantes if", 
      "            (part in g.nodes()) or (part in d.nodes()) or (sum(bows[part][1])>0)]"
     ], 
     "language": "python", 
     "outputs": [], 
     "prompt_number": 24
    }, 
    {
     "cell_type": "code", 
     "collapsed": false, 
     "input": [
      "len(com_rastro)"
     ], 
     "language": "python", 
     "outputs": [
      {
       "output_type": "pyout", 
       "prompt_number": 25, 
       "text": [
        "872"
       ]
      }
     ], 
     "prompt_number": 25
    }, 
    {
     "cell_type": "code", 
     "collapsed": false, 
     "input": [
      "print(\"%.2f por cento dos participantes s\u00e3o pass\u00edveis de serem recomendados e de receberem recomendacoes personalizadas\"%", 
      "           ((len(com_rastro)/float(len(participantes)))*100,)) "
     ], 
     "language": "python", 
     "outputs": [
      {
       "output_type": "stream", 
       "stream": "stdout", 
       "text": [
        "22.80 por cento dos participantes s\u00e3o pass\u00edveis de serem recomendados e de receberem recomendacoes personalizadas"
       ]
      }
     ], 
     "prompt_number": 32
    }, 
    {
     "cell_type": "code", 
     "collapsed": true, 
     "input": [], 
     "language": "python", 
     "outputs": []
    }
   ]
  }
 ]
}