{
 "metadata": {
  "name": "classifica\u00e7\u00e3o de texto"
 }, 
 "nbformat": 2, 
 "worksheets": [
  {
   "cells": [
    {
     "cell_type": "code", 
     "collapsed": true, 
     "input": [
      "# seguir http://www.nltk.org/book/ch06.html"
     ], 
     "language": "python", 
     "outputs": []
    }
   ]
  }
 ]
}