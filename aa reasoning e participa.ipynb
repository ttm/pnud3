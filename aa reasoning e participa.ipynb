{
 "metadata": {
  "name": "aa reasoning e participa"
 }, 
 "nbformat": 2, 
 "worksheets": [
  {
   "cells": [
    {
     "cell_type": "code", 
     "collapsed": false, 
     "input": [
      "from SPARQLWrapper import SPARQLWrapper, JSON", 
      "import time, numpy as n, networkx as x"
     ], 
     "language": "python", 
     "outputs": [], 
     "prompt_number": 2
    }, 
    {
     "cell_type": "code", 
     "collapsed": true, 
     "input": [
      "PREFIX=\"\"\"PREFIX rdf: <http://www.w3.org/1999/02/22-rdf-syntax-ns#>", 
      "PREFIX rdfs: <http://www.w3.org/2000/01/rdf-schema#>", 
      "PREFIX ops: <http://purl.org/socialparticipation/ops#>", 
      "PREFIX opa: <http://purl.org/socialparticipation/opa#>", 
      "PREFIX foaf: <http://xmlns.com/foaf/0.1/>", 
      "PREFIX dc: <http://purl.org/dc/elements/1.1/>", 
      "PREFIX dct: <http://purl.org/dc/terms/>", 
      "PREFIX dcty: <http://purl.org/dc/dcmitype/>", 
      "PREFIX tsioc: <http://rdfs.org/sioc/types#>", 
      "PREFIX sioc: <http://rdfs.org/sioc/ns#>", 
      "PREFIX schema: <http://schema.org/>", 
      "PREFIX aa: <http://purl.org/socialparticipation/aa/>\"\"\""
     ], 
     "language": "python", 
     "outputs": [], 
     "prompt_number": 87
    }, 
    {
     "cell_type": "markdown", 
     "source": [
      "### puxando nomes do participa.br:"
     ]
    }, 
    {
     "cell_type": "code", 
     "collapsed": false, 
     "input": [
      "NOW=time.time()", 
      "q=\"\"\"SELECT ?aname", 
      "       WHERE {", 
      "          ?a foaf:name ?aname .", 
      "       }\"\"\"", 
      "sparql = SPARQLWrapper(\"http://localhost:82/participa/query\")", 
      "# para acesso remoto:", 
      "#sparql = SPARQLWrapper(\"http://200.144.255.210:8082/participabr/query\")", 
      "sparql.setQuery(PREFIX+q)", 
      "sparql.setReturnFormat(JSON)", 
      "results = sparql.query().convert()", 
      "print(\"%.2f segundos para puxar todos os nomes do Participa.br\"%", 
      "      (time.time()-NOW,))"
     ], 
     "language": "python", 
     "outputs": [
      {
       "output_type": "stream", 
       "stream": "stdout", 
       "text": [
        "0.34 segundos para puxar todos os nomes do Participa.br"
       ]
      }
     ], 
     "prompt_number": 56
    }, 
    {
     "cell_type": "code", 
     "collapsed": false, 
     "input": [
      "nomes=[i[\"aname\"][\"value\"] for i in results[\"results\"][\"bindings\"]]", 
      "nomes[:5]"
     ], 
     "language": "python", 
     "outputs": [
      {
       "output_type": "pyout", 
       "prompt_number": 57, 
       "text": [
        "[u'Sarah Costa Schmidt',", 
        " u'Geraldo Cotinguiba',", 
        " u'Adriana Veloso Meireles',", 
        " u'Adalcira Santos Bezerra',", 
        " u'SiPas-DF']"
       ]
      }
     ], 
     "prompt_number": 57
    }, 
    {
     "cell_type": "markdown", 
     "source": [
      "### puxando nicks do aa:"
     ]
    }, 
    {
     "cell_type": "code", 
     "collapsed": false, 
     "input": [
      "NOW=time.time()", 
      "q=\"\"\"SELECT ?aname", 
      "       WHERE {", 
      "          ?a foaf:nick ?aname .", 
      "       }\"\"\"", 
      "# para acesso remoto:", 
      "#sparql = SPARQLWrapper(\"http://200.144.255.210:8082/aa/sparql\")", 
      "sparql2 = SPARQLWrapper(\"http://localhost:82/aa/sparql\")", 
      "sparql2.setQuery(PREFIX+q)", 
      "sparql2.setReturnFormat(JSON)", 
      "results = sparql2.query().convert()", 
      "print(\"%.2f segundos para puxar todos os nicks do aa\"%", 
      "      (time.time()-NOW,))"
     ], 
     "language": "python", 
     "outputs": [
      {
       "output_type": "stream", 
       "stream": "stdout", 
       "text": [
        "0.01 segundos para puxar todos os nicks do aa"
       ]
      }
     ], 
     "prompt_number": 65
    }, 
    {
     "cell_type": "code", 
     "collapsed": false, 
     "input": [
      "nicks=[i[\"aname\"][\"value\"] for i in results[\"results\"][\"bindings\"]]", 
      "nicks[:5]"
     ], 
     "language": "python", 
     "outputs": [
      {
       "output_type": "pyout", 
       "prompt_number": 59, 
       "text": [
        "[u'adr___',", 
        " u'aurium@gmail.com/COLIVRED6CC94B6',", 
        " u'escritor',", 
        " u'patriciaferraz007@gmail.com/gmail.904A38A1',", 
        " u'Flecha']"
       ]
      }
     ], 
     "prompt_number": 59
    }, 
    {
     "cell_type": "markdown", 
     "source": [
      "### escolhendo 25 pares das inst\u00e2ncias e sem repetir participante:"
     ]
    }, 
    {
     "cell_type": "code", 
     "collapsed": false, 
     "input": [
      "import random as ra", 
      "for i in zip(ra.sample(nicks,25), ra.sample(nomes,25)): print i[0], \"===\", i[1]"
     ], 
     "language": "python", 
     "outputs": [
      {
       "output_type": "stream", 
       "stream": "stdout", 
       "text": [
        "greenkobold === meryenn m s Francisco", 
        "Mateus === Pablo Cerdeira", 
        "teste === nailmaprezendehotmail.com", 
        "mquasar === Samuel Mendon\u00e7a", 
        "libotte === Universidade Federal de Rond\u00f4nia", 
        "Fefo === Carlos Antonio Coutrim Caridade", 
        "identi.ca === renata-caetano", 
        "gilsonbeck === michel rocha correia", 
        "rfabbri@gmail.com/gmail.A4063E2C === LUIS HENRIQUE SINANIZ PLATA", 
        "hybrid__ === Jennifer Michelle dos Santos Souza", 
        "rfabbri@gmail.com/gmail.AE0111DD === K\u00e1tia Primon", 
        "patriciaferraz007@gmail.com/gmail.B4BD77BD === Ailton Ferreira de Souza", 
        "blober === Jonathas Meireles de Azevedo", 
        "Ak1n === aaaaaaa", 
        "kamiarc === Instituto do Desenvolvimento da Di\u00e1spora Africana no Brasil", 
        "adrianobf@gmail.com/gmail.909438F0 === Maria de F\u00e1tima Rodrigues", 
        "ricabras@gmail.com/gmail.904B2C94 === Maria Jocicleide Lima de Aguiar", 
        "v1z_ === Jo\u00e3o Vitor Almeida", 
        "guilherme.rk@gmail.com/8E24EAB9 === Jorge Marques Pontes", 
        "o0o0o === Luiz Augusto Rocha de Campos", 
        "glerm === Ana Beatriz Silva Domingos", 
        "hybrid_ === Jefferson Gustavo dos Santos Campos", 
        "witness === Ismael Deyber Oliveira Silva ", 
        "humannoise === SOLANGE RODRIGUES", 
        "hick209 === Ricardo Col De Bella"
       ]
      }
     ], 
     "prompt_number": 60
    }, 
    {
     "cell_type": "markdown", 
     "source": [
      "### Dados do aa atrav\u00e9s de termos da Ontologiaa, sem infer\u00eancia:"
     ]
    }, 
    {
     "cell_type": "code", 
     "collapsed": false, 
     "input": [
      "NOW=time.time()", 
      "q=\"\"\"SELECT DISTINCT ?aname ?asession ?acreated", 
      "       WHERE {", 
      "          ?foo a aa:Shout .", 
      "          ?foo aa:user ?aname .", 
      "          ?foo aa:session ?asession .", 
      "          ?foo aa:created ?acreated", 
      "       }\"\"\"", 
      "# para acesso remoto:", 
      "#sparql = SPARQLWrapper(\"http://200.144.255.210:8082/aa/sparql\")", 
      "sparql2 = SPARQLWrapper(\"http://localhost:82/aa/sparql\")", 
      "sparql2.setQuery(PREFIX+q)", 
      "sparql2.setReturnFormat(JSON)", 
      "results = sparql2.query().convert()", 
      "print(\"%.2f segundos para puxar todos os nicks do aa\"%", 
      "      (time.time()-NOW,))"
     ], 
     "language": "python", 
     "outputs": [
      {
       "output_type": "stream", 
       "stream": "stdout", 
       "text": [
        "2.31 segundos para puxar todos os nicks do aa"
       ]
      }
     ], 
     "prompt_number": 84
    }, 
    {
     "cell_type": "code", 
     "collapsed": false, 
     "input": [
      "r_=[(i[\"aname\"][\"value\"].split(\"#\")[-1],\"sessao: \"+i[\"asession\"][\"value\"].split(\"#\")[-1]) for i in results[\"results\"][\"bindings\"]]"
     ], 
     "language": "python", 
     "outputs": [], 
     "prompt_number": 85
    }, 
    {
     "cell_type": "code", 
     "collapsed": false, 
     "input": [
      "print(u\"s\u00e3o: %i sess\u00f5es. As \u00faltimas 10 sess\u00f5es s\u00e3o: \"%(len(r_),))", 
      "for i in r_[-10:]: print(u\"usu\u00e1rio: %s, sess\u00e3o: %s\"%i)"
     ], 
     "language": "python", 
     "outputs": [
      {
       "output_type": "stream", 
       "stream": "stdout", 
       "text": [
        "s\u00e3o: 35382 sess\u00f5es. As \u00faltimas 10 sess\u00f5es s\u00e3o: ", 
        "usu\u00e1rio: Ak1n, sess\u00e3o: sessao: 718", 
        "usu\u00e1rio: Flecha, sess\u00e3o: sessao: 1223", 
        "usu\u00e1rio: Ak1n, sess\u00e3o: sessao: 771", 
        "usu\u00e1rio: Ak1n, sess\u00e3o: sessao: 843", 
        "usu\u00e1rio: DaneoShiga, sess\u00e3o: sessao: 813", 
        "usu\u00e1rio: DaneoShiga, sess\u00e3o: sessao: 764", 
        "usu\u00e1rio: Penalva, sess\u00e3o: sessao: 1104", 
        "usu\u00e1rio: kamiarc, sess\u00e3o: sessao: 1116", 
        "usu\u00e1rio: Ak1n, sess\u00e3o: sessao: 1276", 
        "usu\u00e1rio: o0o0o, sess\u00e3o: sessao: 1531"
       ]
      }
     ], 
     "prompt_number": 86
    }, 
    {
     "cell_type": "markdown", 
     "source": [
      "### Dados atrav\u00e9s de termos externos, com infer\u00eancia:"
     ]
    }, 
    {
     "cell_type": "code", 
     "collapsed": false, 
     "input": [
      "NOW=time.time()", 
      "q=\"\"\"SELECT ?msg ?video ?acreated ?nick ?smsg ?score", 
      "       WHERE {", 
      "          ?evt a dcty:Event .", 
      "          OPTIONAL { ?evt aa:shoutMessage ?msg . }", 
      "          OPTIONAL { ?evt aa:checkMessage ?smsg . }", 
      "          OPTIONAL { ?evt aa:score ?score . }", 
      "          OPTIONAL { ?evt foaf:maker ?user . ?user a ops:Participant . ?user foaf:nick ?nick  }", 
      "          OPTIONAL { ?evt schema:video ?video . }", 
      "          OPTIONAL { ?evt schema:video ?video . }", 
      "          ?evt dct:created ?acreated", 
      "       }\"\"\"", 
      "# para acesso remoto:", 
      "#sparql = SPARQLWrapper(\"http://200.144.255.210:8082/aa/sparql\")", 
      "#sparql2 = SPARQLWrapper(\"http://localhost:82/aa/sparql\")", 
      "sparql2.setQuery(PREFIX+q)", 
      "sparql2.setReturnFormat(JSON)", 
      "results = sparql2.query().convert()", 
      "print(\"%.2f segundos para puxar todos os nicks do aa\"%", 
      "      (time.time()-NOW,))"
     ], 
     "language": "python", 
     "outputs": [
      {
       "output_type": "stream", 
       "stream": "stdout", 
       "text": [
        "5.35 segundos para puxar todos os nicks do aa"
       ]
      }
     ], 
     "prompt_number": 140
    }, 
    {
     "cell_type": "code", 
     "collapsed": false, 
     "input": [
      "results.keys()"
     ], 
     "language": "python", 
     "outputs": [
      {
       "output_type": "pyout", 
       "prompt_number": 141, 
       "text": [
        "[u'head', u'results']"
       ]
      }
     ], 
     "prompt_number": 141
    }, 
    {
     "cell_type": "code", 
     "collapsed": false, 
     "input": [
      "print(u\"s\u00e3o ao todo %i eventos no AA\"%(len(results[\"results\"][\"bindings\"]),))"
     ], 
     "language": "python", 
     "outputs": [
      {
       "output_type": "stream", 
       "stream": "stdout", 
       "text": [
        "s\u00e3o ao todo 51449 eventos no AA"
       ]
      }
     ], 
     "prompt_number": 142
    }, 
    {
     "cell_type": "code", 
     "collapsed": false, 
     "input": [
      "res_=results[\"results\"][\"bindings\"]"
     ], 
     "language": "python", 
     "outputs": [], 
     "prompt_number": 143
    }, 
    {
     "cell_type": "code", 
     "collapsed": false, 
     "input": [
      "res_[0].keys()"
     ], 
     "language": "python", 
     "outputs": [
      {
       "output_type": "pyout", 
       "prompt_number": 144, 
       "text": [
        "[u'msg', u'nick', u'acreated']"
       ]
      }
     ], 
     "prompt_number": 144
    }, 
    {
     "cell_type": "code", 
     "collapsed": false, 
     "input": [
      "print \"s\u00e3o %s shouts de AA, com mensagens de texto\"%(len(filter(lambda x: \"msg\" in x.keys(), res_)),)"
     ], 
     "language": "python", 
     "outputs": [
      {
       "output_type": "stream", 
       "stream": "stdout", 
       "text": [
        "s\u00e3o 49829 shouts de AA, com mensagens de texto"
       ]
      }
     ], 
     "prompt_number": 145
    }, 
    {
     "cell_type": "code", 
     "collapsed": false, 
     "input": [
      "print \"s\u00e3o %s sessoes de AA com mensagens de video\"%(len(filter(lambda x: \"video\" in x.keys(), res_)),)"
     ], 
     "language": "python", 
     "outputs": [
      {
       "output_type": "stream", 
       "stream": "stdout", 
       "text": [
        "s\u00e3o 314 sessoes de AA com mensagens de video"
       ]
      }
     ], 
     "prompt_number": 146
    }, 
    {
     "cell_type": "code", 
     "collapsed": false, 
     "input": [
      "for i in filter(lambda x: \"smsg\" in x.keys() and \"video\" in x.keys() and \"score\" in x.keys(), res_)[90:100]:", 
      "    print(\"Screencast: %s,\\n data: %s,\\n msg: %s,\\n score: %s\\n\"%(i[\"video\"][\"value\"],i[\"acreated\"][\"value\"],i[\"smsg\"][\"value\"],i[\"score\"][\"value\"]))"
     ], 
     "language": "python", 
     "outputs": [
      {
       "output_type": "stream", 
       "stream": "stdout", 
       "text": [
        "Screencast: http://vimeo.com/27156090,", 
        " data: 2011-08-01 11:32:25,", 
        " msg:  Log e screencast ok!,", 
        " score: 4", 
        "", 
        "Screencast: http://www.vimeo.com/29354869,", 
        " data: 2011-09-20 18:20:08,", 
        " msg:  ,", 
        " score: 3", 
        "", 
        "Screencast: http://vimeo.com/27319268,", 
        " data: 2011-08-04 21:15:13,", 
        " msg: Neste dia comentamos sobre o n\u00e3o estar funcionando o Make do animal, deu certo depois, que bom que o final foi feliz :-D,", 
        " score: 4", 
        "", 
        "Screencast: http://vimeo.com/27565276,", 
        " data: 2011-08-05 16:25:37,", 
        " msg:  ,", 
        " score: 3", 
        "", 
        "Screencast: http://www.youtube.com/watch?v=WRx65iwOM4A,", 
        " data: 2011-08-12 03:42:05,", 
        " msg:  Seria bom ser mais espec\u00c3\u00adfico nos alerts, dando um pouco mais de detalhes sobre o que voc\u00c3\u00aa est\u00c3\u00a1 fazendo.,", 
        " score: 3", 
        "", 
        "Screencast: http://vimeo.com/27272946,", 
        " data: 2011-08-03 22:58:37,", 
        " msg:  ,", 
        " score: 4", 
        "", 
        "Screencast: http://vimeo.com/29858393,", 
        " data: 2011-09-21 15:58:44,", 
        " msg:  Certinho, pelo AA  t\u00e1 tudo j\u00f3ia", 
        "good job!,", 
        " score: 4", 
        "", 
        "Screencast: http://vimeo.com/30481125,", 
        " data: 2011-10-12 21:41:47,", 
        " msg:  ,", 
        " score: 2", 
        "", 
        "Screencast: http://vimeo.com/31000289,", 
        " data: 2011-10-18 20:38:26,", 
        " msg: o link para o screencast est\u00c3\u00a1 errado,", 
        " score: 3", 
        "", 
        "Screencast: http://www.vimeo.com/29699668,", 
        " data: 2011-09-25 17:34:30,", 
        " msg:  ,", 
        " score: 3", 
        ""
       ]
      }
     ], 
     "prompt_number": 153
    }, 
    {
     "cell_type": "code", 
     "collapsed": true, 
     "input": [], 
     "language": "python", 
     "outputs": []
    }
   ]
  }
 ]
}