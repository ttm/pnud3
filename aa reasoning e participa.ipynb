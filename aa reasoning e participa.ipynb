{
 "metadata": {
  "name": "aa reasoning e participa"
 }, 
 "nbformat": 2, 
 "worksheets": [
  {
   "cells": [
    {
     "cell_type": "code", 
     "collapsed": true, 
     "input": [
      "from SPARQLWrapper import SPARQLWrapper, JSON", 
      "import time, numpy as n, networkx as x"
     ], 
     "language": "python", 
     "outputs": [], 
     "prompt_number": 2
    }, 
    {
     "cell_type": "code", 
     "collapsed": true, 
     "input": [
      "PREFIX=\"\"\"PREFIX rdf: <http://www.w3.org/1999/02/22-rdf-syntax-ns#>", 
      "PREFIX rdfs: <http://www.w3.org/2000/01/rdf-schema#>", 
      "PREFIX ops: <http://purl.org/socialparticipation/ops#>", 
      "PREFIX opa: <http://purl.org/socialparticipation/opa#>", 
      "PREFIX foaf: <http://xmlns.com/foaf/0.1/>", 
      "PREFIX dc: <http://purl.org/dc/elements/1.1/>", 
      "PREFIX dct: <http://purl.org/dc/terms/>", 
      "PREFIX dcty: <http://purl.org/dc/dcmitype/>", 
      "PREFIX tsioc: <http://rdfs.org/sioc/types#>", 
      "PREFIX sioc: <http://rdfs.org/sioc/ns#>", 
      "PREFIX schema: <http://schema.org/>", 
      "PREFIX aa: <http://purl.org/socialparticipation/aa/>\"\"\""
     ], 
     "language": "python", 
     "outputs": [], 
     "prompt_number": 87
    }, 
    {
     "cell_type": "markdown", 
     "source": [
      "### puxando nomes do participa.br:"
     ]
    }, 
    {
     "cell_type": "code", 
     "collapsed": false, 
     "input": [
      "NOW=time.time()", 
      "q=\"\"\"SELECT ?aname", 
      "       WHERE {", 
      "          ?a foaf:name ?aname .", 
      "       }\"\"\"", 
      "sparql = SPARQLWrapper(\"http://localhost:82/participa/query\")", 
      "# para acesso remoto:", 
      "#sparql = SPARQLWrapper(\"http://200.144.255.210:8082/participabr/query\")", 
      "sparql.setQuery(PREFIX+q)", 
      "sparql.setReturnFormat(JSON)", 
      "results = sparql.query().convert()", 
      "print(\"%.2f segundos para puxar todos os nomes do Participa.br\"%", 
      "      (time.time()-NOW,))"
     ], 
     "language": "python", 
     "outputs": [
      {
       "output_type": "stream", 
       "stream": "stdout", 
       "text": [
        "0.34 segundos para puxar todos os nomes do Participa.br"
       ]
      }
     ], 
     "prompt_number": 56
    }, 
    {
     "cell_type": "code", 
     "collapsed": false, 
     "input": [
      "nomes=[i[\"aname\"][\"value\"] for i in results[\"results\"][\"bindings\"]]", 
      "nomes[:5]"
     ], 
     "language": "python", 
     "outputs": [
      {
       "output_type": "pyout", 
       "prompt_number": 57, 
       "text": [
        "[u'Sarah Costa Schmidt',", 
        " u'Geraldo Cotinguiba',", 
        " u'Adriana Veloso Meireles',", 
        " u'Adalcira Santos Bezerra',", 
        " u'SiPas-DF']"
       ]
      }
     ], 
     "prompt_number": 57
    }, 
    {
     "cell_type": "markdown", 
     "source": [
      "### puxando nicks do aa:"
     ]
    }, 
    {
     "cell_type": "code", 
     "collapsed": false, 
     "input": [
      "NOW=time.time()", 
      "q=\"\"\"SELECT ?aname", 
      "       WHERE {", 
      "          ?a foaf:nick ?aname .", 
      "       }\"\"\"", 
      "# para acesso remoto:", 
      "#sparql = SPARQLWrapper(\"http://200.144.255.210:8082/aa/sparql\")", 
      "sparql2 = SPARQLWrapper(\"http://localhost:82/aa/sparql\")", 
      "sparql2.setQuery(PREFIX+q)", 
      "sparql2.setReturnFormat(JSON)", 
      "results = sparql2.query().convert()", 
      "print(\"%.2f segundos para puxar todos os nicks do aa\"%", 
      "      (time.time()-NOW,))"
     ], 
     "language": "python", 
     "outputs": [
      {
       "output_type": "stream", 
       "stream": "stdout", 
       "text": [
        "0.02 segundos para puxar todos os nicks do aa"
       ]
      }
     ], 
     "prompt_number": 157
    }, 
    {
     "cell_type": "code", 
     "collapsed": false, 
     "input": [
      "nicks=[i[\"aname\"][\"value\"] for i in results[\"results\"][\"bindings\"]]", 
      "nicks[:5]"
     ], 
     "language": "python", 
     "outputs": [
      {
       "output_type": "pyout", 
       "prompt_number": 158, 
       "text": [
        "[u'kamiarc',", 
        " u'zAoEO3oAz',", 
        " u'organismo@gmail.com/gmail.90B01A72',", 
        " u'tatoman',", 
        " u'fdeSanca']"
       ]
      }
     ], 
     "prompt_number": 158
    }, 
    {
     "cell_type": "markdown", 
     "source": [
      "### escolhendo 25 pares das inst\u00e2ncias e sem repetir participante:"
     ]
    }, 
    {
     "cell_type": "code", 
     "collapsed": false, 
     "input": [
      "import random as ra", 
      "for i in zip(ra.sample(nicks,25), ra.sample(nomes,25)): print i[0], \"===\", i[1]"
     ], 
     "language": "python", 
     "outputs": [
      {
       "output_type": "stream", 
       "stream": "stdout", 
       "text": [
        "doceafagonanuca === Antonio de Assis", 
        "presto.correa@gmail.com/android_talk9bbb29508 === Francisco Gilson Lucena da Silva", 
        "blober === Iv\u00e2nia Fab\u00edola de Souza", 
        "guilherme.rk@gmail.com/8E24EAB9 === Joelma de Lima Gon\u00e7alves", 
        "Penalva === Unidade B\u00e1sica de Sa\u00fade Boracea", 
        "DaneoShiga === Marcelo Horacio Fortino", 
        "__YupanaKernel__ === Marcelo Azevedo", 
        "paulordbm === Aline de S\u00e1 Souza", 
        "hybrid_ === Rogers Silva Garcez das Neves", 
        "v1z__ === Lourival Almeida", 
        "Flecha === Marina Gandra Camargo de Barros Oliveira", 
        "gcravista@gmail.com/gmail.9404F244 === Erc\u00edlio Langa", 
        "angelina_ === lesandro", 
        "barraponto@gmail.com/gmail.B4BE8C17 === Joanes Manoel Vieira", 
        "humannoise_ === Universidade de Bras\u00edlia (UnB)", 
        "fran_paizao === vanessa aparecida pultrini de oliveira", 
        "sephiohff8@gmail.com/gmail.905F831B === ezequiel barroso nunes", 
        "Fefo === Paulo Henrique de Lima Santana", 
        "caioc2 === Luziana Carvalho de Albuquerque Maranh\u00e3o", 
        "monod === Eduardo Santarelo Lucas", 
        "anonymous === Oona Caldeira Brant Monteiro de Castro", 
        "doceafagonanuca === Angel ", 
        "cardinot === Napole\u00e3o Pires dos Santos", 
        "b1O83R === Adriana Veloso Meireles", 
        "________________ === joelma carvalho dos santos"
       ]
      }
     ], 
     "prompt_number": 159
    }, 
    {
     "cell_type": "markdown", 
     "source": [
      "### Dados do aa atrav\u00e9s de termos da Ontologiaa, sem infer\u00eancia:"
     ]
    }, 
    {
     "cell_type": "code", 
     "collapsed": false, 
     "input": [
      "NOW=time.time()", 
      "q=\"\"\"SELECT DISTINCT ?aname ?asession ?acreated", 
      "       WHERE {", 
      "          ?foo a aa:Shout .", 
      "          ?foo aa:user ?aname .", 
      "          ?foo aa:session ?asession .", 
      "          ?foo aa:created ?acreated", 
      "       }\"\"\"", 
      "# para acesso remoto:", 
      "#sparql = SPARQLWrapper(\"http://200.144.255.210:8082/aa/sparql\")", 
      "sparql2 = SPARQLWrapper(\"http://localhost:82/aa/sparql\")", 
      "sparql2.setQuery(PREFIX+q)", 
      "sparql2.setReturnFormat(JSON)", 
      "results = sparql2.query().convert()", 
      "print(\"%.2f segundos para puxar todas as infos do aa\"%", 
      "      (time.time()-NOW,))"
     ], 
     "language": "python", 
     "outputs": [
      {
       "output_type": "stream", 
       "stream": "stdout", 
       "text": [
        "8.07 segundos para puxar todas as infos do aa"
       ]
      }
     ], 
     "prompt_number": 161
    }, 
    {
     "cell_type": "code", 
     "collapsed": true, 
     "input": [
      "r_=[(i[\"aname\"][\"value\"].split(\"#\")[-1],\"sessao: \"+i[\"asession\"][\"value\"].split(\"#\")[-1]) for i in results[\"results\"][\"bindings\"]]"
     ], 
     "language": "python", 
     "outputs": [], 
     "prompt_number": 85
    }, 
    {
     "cell_type": "code", 
     "collapsed": false, 
     "input": [
      "print(u\"s\u00e3o: %i sess\u00f5es. As \u00faltimas 10 sess\u00f5es s\u00e3o: \"%(len(r_),))", 
      "for i in r_[-10:]: print(u\"usu\u00e1rio: %s, sess\u00e3o: %s\"%i)"
     ], 
     "language": "python", 
     "outputs": [
      {
       "output_type": "stream", 
       "stream": "stdout", 
       "text": [
        "s\u00e3o: 35382 sess\u00f5es. As \u00faltimas 10 sess\u00f5es s\u00e3o: ", 
        "usu\u00e1rio: Ak1n, sess\u00e3o: sessao: 718", 
        "usu\u00e1rio: Flecha, sess\u00e3o: sessao: 1223", 
        "usu\u00e1rio: Ak1n, sess\u00e3o: sessao: 771", 
        "usu\u00e1rio: Ak1n, sess\u00e3o: sessao: 843", 
        "usu\u00e1rio: DaneoShiga, sess\u00e3o: sessao: 813", 
        "usu\u00e1rio: DaneoShiga, sess\u00e3o: sessao: 764", 
        "usu\u00e1rio: Penalva, sess\u00e3o: sessao: 1104", 
        "usu\u00e1rio: kamiarc, sess\u00e3o: sessao: 1116", 
        "usu\u00e1rio: Ak1n, sess\u00e3o: sessao: 1276", 
        "usu\u00e1rio: o0o0o, sess\u00e3o: sessao: 1531"
       ]
      }
     ], 
     "prompt_number": 162
    }, 
    {
     "cell_type": "markdown", 
     "source": [
      "### Dados atrav\u00e9s de termos externos, com infer\u00eancia:"
     ]
    }, 
    {
     "cell_type": "code", 
     "collapsed": false, 
     "input": [
      "NOW=time.time()", 
      "q=\"\"\"SELECT ?msg ?video ?acreated ?nick ?smsg ?score", 
      "       WHERE {", 
      "          ?evt a dcty:Event .", 
      "          OPTIONAL { ?evt aa:shoutMessage ?msg . }", 
      "          OPTIONAL { ?evt aa:checkMessage ?smsg . }", 
      "          OPTIONAL { ?evt aa:score ?score . }", 
      "          OPTIONAL { ?evt foaf:maker ?user . ?user a ops:Participant . ?user foaf:nick ?nick  }", 
      "          OPTIONAL { ?evt schema:video ?video . }", 
      "          OPTIONAL { ?evt schema:video ?video . }", 
      "          ?evt dct:created ?acreated", 
      "       }\"\"\"", 
      "# para acesso remoto:", 
      "#sparql = SPARQLWrapper(\"http://200.144.255.210:8082/aa/sparql\")", 
      "#sparql2 = SPARQLWrapper(\"http://localhost:82/aa/sparql\")", 
      "sparql2.setQuery(PREFIX+q)", 
      "sparql2.setReturnFormat(JSON)", 
      "results = sparql2.query().convert()", 
      "print(\"%.2f segundos para puxar td\"%", 
      "      (time.time()-NOW,))"
     ], 
     "language": "python", 
     "outputs": [
      {
       "output_type": "stream", 
       "stream": "stdout", 
       "text": [
        "17.81 segundos para puxar td"
       ]
      }
     ], 
     "prompt_number": 163
    }, 
    {
     "cell_type": "code", 
     "collapsed": false, 
     "input": [
      "results.keys()"
     ], 
     "language": "python", 
     "outputs": [
      {
       "output_type": "pyout", 
       "prompt_number": 164, 
       "text": [
        "[u'head', u'results']"
       ]
      }
     ], 
     "prompt_number": 164
    }, 
    {
     "cell_type": "code", 
     "collapsed": false, 
     "input": [
      "print(u\"s\u00e3o ao todo %i eventos no AA\"%(len(results[\"results\"][\"bindings\"]),))"
     ], 
     "language": "python", 
     "outputs": [
      {
       "output_type": "stream", 
       "stream": "stdout", 
       "text": [
        "s\u00e3o ao todo 122987 eventos no AA"
       ]
      }
     ], 
     "prompt_number": 165
    }, 
    {
     "cell_type": "code", 
     "collapsed": true, 
     "input": [
      "res_=results[\"results\"][\"bindings\"]"
     ], 
     "language": "python", 
     "outputs": [], 
     "prompt_number": 166
    }, 
    {
     "cell_type": "code", 
     "collapsed": false, 
     "input": [
      "res_[0].keys()"
     ], 
     "language": "python", 
     "outputs": [
      {
       "output_type": "pyout", 
       "prompt_number": 167, 
       "text": [
        "[u'msg', u'nick', u'acreated']"
       ]
      }
     ], 
     "prompt_number": 167
    }, 
    {
     "cell_type": "code", 
     "collapsed": false, 
     "input": [
      "print \"s\u00e3o %s shouts de AA, com mensagens de texto\"%(len(filter(lambda x: \"msg\" in x.keys(), res_)),)"
     ], 
     "language": "python", 
     "outputs": [
      {
       "output_type": "stream", 
       "stream": "stdout", 
       "text": [
        "s\u00e3o 115654 shouts de AA, com mensagens de texto"
       ]
      }
     ], 
     "prompt_number": 168
    }, 
    {
     "cell_type": "code", 
     "collapsed": false, 
     "input": [
      "print \"s\u00e3o %s sessoes de AA com mensagens de video\"%(len(filter(lambda x: \"video\" in x.keys(), res_)),)"
     ], 
     "language": "python", 
     "outputs": [
      {
       "output_type": "stream", 
       "stream": "stdout", 
       "text": [
        "s\u00e3o 315 sessoes de AA com mensagens de video"
       ]
      }
     ], 
     "prompt_number": 169
    }, 
    {
     "cell_type": "code", 
     "collapsed": false, 
     "input": [
      "for i in filter(lambda x: \"smsg\" in x.keys() and \"video\" in x.keys() and \"score\" in x.keys(), res_)[83:86]:", 
      "    print(\"Screencast: %s,\\n data: %s,\\n msg: %s,\\n score: %s\\n\"%(i[\"video\"][\"value\"],i[\"acreated\"][\"value\"],i[\"smsg\"][\"value\"],i[\"score\"][\"value\"]))"
     ], 
     "language": "python", 
     "outputs": [
      {
       "output_type": "stream", 
       "stream": "stdout", 
       "text": [
        "Screencast: http://vimeo.com/28533894,", 
        " data: 2011-09-02 21:24:42,", 
        " msg: Classifiquei como boa pelo screencast, pq aqui aparecem muitos timeslots perdidos. N\u00e3o sei se \u00e9 erro do AA isso.,", 
        " score: 3", 
        "", 
        "Screencast: http://vimeo.com/27211210,", 
        " data: 2011-08-02 14:01:59,", 
        " msg:  Timeslot perdido =(,", 
        " score: 2", 
        "", 
        "Screencast: http://vimeo.com/32708658,", 
        " data: 2011-11-10 18:30:14,", 
        " msg:  pagina\u00c3\u00a7\u00c3\u00a3o de p\u00c3\u00a1ginas? hehehe,", 
        " score: 3"
       ]
      }
     ], 
     "prompt_number": 178
    }, 
    {
     "cell_type": "markdown", 
     "source": [
      "### Iniciando compara\u00e7\u00e3o de vocabul\u00e1rios", 
      "Primeiro do participa.br, depois do aa"
     ]
    }, 
    {
     "cell_type": "code", 
     "collapsed": true, 
     "input": [
      "import string, networkx as x, nltk as k", 
      "URL_ENDPOINT=\"http://localhost:82/\"", 
      "URL_ENDPOINT_=URL_ENDPOINT+\"participa/query\"", 
      "EXCLUDE=set(string.punctuation+u'\\u201c'+u'\\u2018'+u'\\u201d'+u'\\u2022'+u'\\u2013')", 
      "extraw=[u\"\u00e0\",u\"\u00e9\",u\"n\u00e3o\",u\"ser\",u\"s\u00e3o\",u\"j\u00e1\",u\"sobre\",u\"tamb\u00e9m\",u\"nao\",\"in\",\"pra\",\"eh\"]", 
      "STOPWORDS=set(k.corpus.stopwords.words('portuguese')+extraw)", 
      "PREFIX=\"\"\"PREFIX rdf: <http://www.w3.org/1999/02/22-rdf-syntax-ns#>", 
      "PREFIX rdfs: <http://www.w3.org/2000/01/rdf-schema#>", 
      "PREFIX ops: <http://purl.org/socialparticipation/ops#>", 
      "PREFIX opa: <http://purl.org/socialparticipation/opa#>", 
      "PREFIX foaf: <http://xmlns.com/foaf/0.1/>", 
      "PREFIX dc: <http://purl.org/dc/terms/>", 
      "PREFIX tsioc: <http://rdfs.org/sioc/types#>", 
      "PREFIX sioc: <http://rdfs.org/sioc/ns#>", 
      "PREFIX schema: <http://schema.org/>\"\"\"", 
      "stemmer = k.stem.RSLPStemmer()"
     ], 
     "language": "python", 
     "outputs": [], 
     "prompt_number": 224
    }, 
    {
     "cell_type": "code", 
     "collapsed": true, 
     "input": [
      "q=\"SELECT ?comentario ?titulo ?texto WHERE \\", 
      "           {?comentario dc:type tsioc:Comment.\\", 
      "          OPTIONAL {?comentario dc:title ?titulo . }\\", 
      "           OPTIONAL {?comentario schema:text ?texto .}}\"", 
      "sparql=SPARQLWrapper(URL_ENDPOINT_)", 
      "sparql.setQuery(PREFIX+q)", 
      "sparql.setReturnFormat(JSON)", 
      "results = sparql.query().convert()", 
      "msgs_=results[\"results\"][\"bindings\"]", 
      "msgs=[mm for mm in msgs_ if (\"titulo\" not in mm.keys()) or", 
      "      ((\"teste de stress\" not in mm[\"titulo\"][\"value\"].lower())", 
      "      and (\"comunidade de desenvolvedores e nesse caso, quanto mais\"", 
      "           not in mm[\"texto\"][\"value\"].lower()))]", 
      "palavras=string.join([i[\"texto\"][\"value\"].lower() for i in msgs])", 
      "palavras = ''.join(ch for ch in palavras if ch not in EXCLUDE)", 
      "#palavras = ''.join(ch for ch in palavras if ch not in EXCLUDE).encode('utf-8')", 
      "palavras_=palavras.split()", 
      "#palavras__=[stemmer.stem(pp) for pp in palavras_ if pp not in STOPWORDS]", 
      "palavras__=[pp for pp in palavras_ if pp not in STOPWORDS]", 
      "fdist_=k.FreqDist(palavras__)", 
      "# escolhendo as 400 palavras mais incidentes para refer\u00eancia", 
      "palavras_escolhidas=fdist_.keys()[:400]", 
      "__builtin__.palavras_escolhidas=palavras_escolhidas", 
      "__builtin__.fdist_=fdist_"
     ], 
     "language": "python", 
     "outputs": [], 
     "prompt_number": 225
    }, 
    {
     "cell_type": "code", 
     "collapsed": true, 
     "input": [
      "res__=[]", 
      "for rr in res_:", 
      "    if \"msg\" in rr.keys():", 
      "        if rr[\"msg\"][\"value\"] not in (u\"notify\",u\"TIMESLOT PERDIDO\",u\"start\",u\"stop\",u\"push\"):", 
      "            res__.append(rr[\"msg\"][\"value\"].replace(\"shout \",\"\").replace(\"alert \",\"\").replace(\"emails\",\"email\").replace(\"fazendo\",\"fazer\").replace(\" p \",\"\").replace(\"the \",\"\").replace(\"and \",\"\").replace(\"vendo \",\"ver\").replace(\"indo \",\"vou\").replace(\" q \",\"\").replace(\" to \",\"\").replace(\"on\",\"\").replace(\"esu\",\"\").replace(\"paper\",\"artigo\"))"
     ], 
     "language": "python", 
     "outputs": [], 
     "prompt_number": 303
    }, 
    {
     "cell_type": "code", 
     "collapsed": false, 
     "input": [
      "res__[2200:2210]"
     ], 
     "language": "python", 
     "outputs": [
      {
       "output_type": "pyout", 
       "prompt_number": 304, 
       "text": [
        "[u'resolverproblemas na versu00e3o de teste',", 
        " u'feito arq de cf completo, voupara testes',", 
        " u'fazer commits',", 
        " u'SIGLA: TGL eh The Green Light',", 
        " u'fiz vu00e1rios testes',", 
        " u'Lendo e-mails',", 
        " u'revising artigo',", 
        " u'git commit in /Users/rfabbri/d/pyth: initial test case',", 
        " u'trabalhando no ExtratoForm para restringir projetos a partir de cta',", 
        " u'+ifsc voltando para o ag']"
       ]
      }
     ], 
     "prompt_number": 304
    }, 
    {
     "cell_type": "code", 
     "collapsed": true, 
     "input": [
      "palavras2=string.join([i.lower() for i in res__])", 
      "palavras2 = ''.join(ch for ch in palavras2 if ch not in EXCLUDE).replace(\"usersrfabbrilibnotastodos\",\"\")", 
      "#palavras = ''.join(ch for ch in palavras if ch not in EXCLUDE).encode('utf-8')", 
      "palavras2_=palavras2.split()", 
      "#palavras__=[stemmer.stem(pp) for pp in palavras_ if pp not in STOPWORDS]", 
      "palavras2__=[pp for pp in palavras2_ if pp not in STOPWORDS]", 
      "fdist2_=k.FreqDist(palavras2__)", 
      "# escolhendo as 400 palavras mais incidentes para refer\u00eancia", 
      "palavras_escolhidas2=fdist2_.keys()[:400]", 
      "__builtin__.palavras_escolhidas2=palavras_escolhidas2", 
      "__builtin__.fdist2_=fdist2_"
     ], 
     "language": "python", 
     "outputs": [], 
     "prompt_number": 313
    }, 
    {
     "cell_type": "code", 
     "collapsed": true, 
     "input": [
      "from tabulate import tabulate"
     ], 
     "language": "python", 
     "outputs": [], 
     "prompt_number": 317
    }, 
    {
     "cell_type": "code", 
     "collapsed": false, 
     "input": [
      "headers=[\"ranking\",\"Participa\",\"AA\"]", 
      "table=[]", 
      "for i in xrange(20):", 
      "    foo=palavras_escolhidas[i]+\" => \"+str(fdist_[palavras_escolhidas[i]])", 
      "    bar=palavras_escolhidas2[i]+\" => \"+str(fdist2_[palavras_escolhidas2[i]])", 
      "    table.append([i+1,foo,bar])"
     ], 
     "language": "python", 
     "outputs": [], 
     "prompt_number": 330
    }, 
    {
     "cell_type": "code", 
     "collapsed": false, 
     "input": [
      "print tabulate(table,headers)"
     ], 
     "language": "python", 
     "outputs": [
      {
       "output_type": "stream", 
       "stream": "stdout", 
       "text": [
        "  ranking  Participa            AA", 
        "---------  -------------------  -----------------", 
        "        1  participa\u00e7\u00e3o => 717  git => 2052", 
        "        2  social => 548        commit => 1985", 
        "        3  sociedade => 526     fazer => 1612", 
        "        4  governo => 367       ainda => 1171", 
        "        5  forma => 337         agora => 1066", 
        "        6  pol\u00edticas => 327     tentando => 981", 
        "        7  p\u00fablicas => 310      aa => 978", 
        "        8  brasil => 302        vou => 920", 
        "        9  nacional => 266      lendo => 835", 
        "       10  todos => 258         email => 789", 
        "       11  educa\u00e7\u00e3o => 251      artigo => 709", 
        "       12  pol\u00edtica => 249      scilab => 568", 
        "       13  deve => 232          ver => 566", 
        "       14  civil => 231         terminando => 461", 
        "       15  proposta => 225      wiki => 419", 
        "       16  acesso => 224        dando => 388", 
        "       17  federal => 223       pd => 388", 
        "       18  pa\u00eds => 222          sip => 374", 
        "       19  direito => 218       testando => 348", 
        "       20  pode => 218          pouco => 345"
       ]
      }
     ], 
     "prompt_number": 331
    }, 
    {
     "cell_type": "code", 
     "collapsed": true, 
     "input": [], 
     "language": "python", 
     "outputs": []
    }
   ]
  }
 ]
}