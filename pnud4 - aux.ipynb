{
 "metadata": {
  "name": "pnud4 - aux"
 }, 
 "nbformat": 2, 
 "worksheets": [
  {
   "cells": [
    {
     "cell_type": "markdown", 
     "source": [
      "## Rotinas para obten\u00e7\u00e3o das estruturas auxiliares para o sistema de recomenda\u00e7\u00e3o", 
      "Estas rotinas s\u00e3o usadas para a r\u00e1pida recomenda\u00e7\u00e3o de recursos do Participa.br", 
      "para usu\u00e1rios e para linha editorial.", 
      "", 
      "Est\u00e1 prevista a disponibiliza\u00e7\u00e3o destas estruturas j\u00e1 no endpoint SparQL atrav\u00e9s", 
      "de inclus\u00e3o das rotinas na triplifica\u00e7\u00e3o dos dados. Por hora,", 
      "o c\u00e1lculo \u00e9 feito pelo sistema de recomenda\u00e7\u00e3o. Estas s\u00e3o as estruturas atualizadas com", 
      "a visita ao caminho http://\"dominio\"/atualiza"
     ]
    }, 
    {
     "cell_type": "code", 
     "collapsed": false, 
     "input": [
      "from SPARQLWrapper import SPARQLWrapper, JSON", 
      "import networkx as x, nltk as k", 
      "import string, time, __builtin__"
     ], 
     "language": "python", 
     "outputs": [], 
     "prompt_number": 30
    }, 
    {
     "cell_type": "code", 
     "collapsed": true, 
     "input": [
      "URL_ENDPOINT=\"http://localhost:82/\"", 
      "URL_ENDPOINT_=URL_ENDPOINT+\"participabr/query\"", 
      "EXCLUDE=set(string.punctuation+u'\\u201c'+u'\\u2018'+u'\\u201d'+u'\\u2022'+u'\\u2013')", 
      "STOPWORDS=set(k.corpus.stopwords.words('portuguese'))", 
      "PREFIX=\"\"\"PREFIX rdf: <http://www.w3.org/1999/02/22-rdf-syntax-ns#>", 
      "PREFIX rdfs: <http://www.w3.org/2000/01/rdf-schema#>", 
      "PREFIX ops: <http://purl.org/socialparticipation/ops#>", 
      "PREFIX opa: <http://purl.org/socialparticipation/opa#>", 
      "PREFIX foaf: <http://xmlns.com/foaf/0.1/>", 
      "PREFIX dc: <http://purl.org/dc/terms/>", 
      "PREFIX tsioc: <http://rdfs.org/sioc/types#>", 
      "PREFIX sioc: <http://rdfs.org/sioc/ns#>", 
      "PREFIX schema: <http://schema.org/>\"\"\"", 
      "stemmer = k.stem.RSLPStemmer()"
     ], 
     "language": "python", 
     "outputs": [], 
     "prompt_number": 5
    }, 
    {
     "cell_type": "markdown", 
     "source": [
      "### Rede de amizades"
     ]
    }, 
    {
     "cell_type": "code", 
     "collapsed": true, 
     "input": [
      "q=\"\"\"SELECT ?a ?b ?aname ?bname", 
      "       WHERE {", 
      "          ?a foaf:knows ?b .", 
      "       }\"\"\"", 
      "sparql=SPARQLWrapper(URL_ENDPOINT_)", 
      "sparql.setQuery(PREFIX+q)", 
      "sparql.setReturnFormat(JSON)", 
      "results = sparql.query().convert()", 
      "g=x.Graph()", 
      "for amizade in results[\"results\"][\"bindings\"]:", 
      "    nome1=amizade[\"a\"][\"value\"]", 
      "    nome2=amizade[\"b\"][\"value\"]", 
      "    g.add_edge(nome1,nome2)", 
      "__builtin__.g=g"
     ], 
     "language": "python", 
     "outputs": [], 
     "prompt_number": 6
    }, 
    {
     "cell_type": "markdown", 
     "source": [
      "### Rede de intera\u00e7\u00e3o"
     ]
    }, 
    {
     "cell_type": "code", 
     "collapsed": true, 
     "input": [
      "q=\"\"\"SELECT ?participante1 ?participante2 ?aname ?bname", 
      "       WHERE {", 
      "           ?comentario dc:type tsioc:Comment.", 
      "           ?participante1 ops:performsParticipation ?comentario.", 
      "           ?participante1 foaf:name ?aname.", 
      "           ?artigo sioc:has_reply ?comentario.", 
      "           ?participante2 ops:performsParticipation ?artigo.", 
      "           ?participante2 foaf:name ?bname.", 
      "       }\"\"\"", 
      "sparql=SPARQLWrapper(URL_ENDPOINT_)", 
      "sparql.setQuery(PREFIX+q)", 
      "sparql.setReturnFormat(JSON)", 
      "results = sparql.query().convert()", 
      "d=x.DiGraph()", 
      "for interacao in results[\"results\"][\"bindings\"]:", 
      "    nome_chegada=interacao[\"participante1\"][\"value\"]", 
      "    nome_partida=interacao[\"participante2\"][\"value\"]", 
      "    if (nome_partida,nome_chegada) in d.edges():", 
      "        d[nome_partida][nome_chegada][\"weight\"]+=1", 
      "    else:", 
      "        d.add_edge(nome_partida,nome_chegada,weight=1.)", 
      "__builtin__.d=d"
     ], 
     "language": "python", 
     "outputs": [], 
     "prompt_number": 9
    }, 
    {
     "cell_type": "markdown", 
     "source": [
      "### Bag-Of-Words com todos os comentarios e artigos do participa.br"
     ]
    }, 
    {
     "cell_type": "code", 
     "collapsed": true, 
     "input": [
      "q=\"SELECT ?comentario ?titulo ?texto WHERE \\", 
      "           {?comentario dc:type tsioc:Comment.\\", 
      "          OPTIONAL {?comentario dc:title ?titulo . }\\", 
      "           OPTIONAL {?comentario schema:text ?texto .}}\"", 
      "sparql=SPARQLWrapper(URL_ENDPOINT_)", 
      "sparql.setQuery(PREFIX+q)", 
      "sparql.setReturnFormat(JSON)", 
      "results = sparql.query().convert()", 
      "msgs_=results[\"results\"][\"bindings\"]", 
      "msgs=[mm for mm in msgs_ if (\"titulo\" not in mm.keys()) or", 
      "      ((\"teste de stress\" not in mm[\"titulo\"][\"value\"].lower())", 
      "      and (\"comunidade de desenvolvedores e nesse caso, quanto mais\"", 
      "           not in mm[\"texto\"][\"value\"].lower()))]", 
      "palavras=string.join([i[\"texto\"][\"value\"].lower() for i in msgs])", 
      "palavras = ''.join(ch for ch in palavras if ch not in EXCLUDE)", 
      "#palavras = ''.join(ch for ch in palavras if ch not in EXCLUDE).encode('utf-8')", 
      "palavras_=palavras.split()", 
      "palavras__=[stemmer.stem(pp) for pp in palavras_ if pp not in STOPWORDS]", 
      "fdist_=k.FreqDist(palavras__)", 
      "# escolhendo as 400 palavras mais incidentes para refer\u00eancia", 
      "palavras_escolhidas=fdist_.keys()[:400]", 
      "__builtin__.palavras_escolhidas=palavras_escolhidas", 
      "__builtin__.fdist_=fdist_"
     ], 
     "language": "python", 
     "outputs": [], 
     "prompt_number": 39
    }, 
    {
     "cell_type": "code", 
     "collapsed": false, 
     "input": [
      "T=time.time()", 
      "q=\"SELECT ?cbody ?titulo ?abody WHERE \\", 
      "           {?foo ops:performsParticipation ?participacao.\\", 
      "          OPTIONAL { ?participacao schema:articleBody ?abody. }\\", 
      "          OPTIONAL {?participacao dc:title ?titulo . }\\", 
      "           OPTIONAL {?participacao schema:text ?cbody .}}\"", 
      "sparql=SPARQLWrapper(URL_ENDPOINT_)", 
      "sparql.setQuery(PREFIX+q)", 
      "sparql.setReturnFormat(JSON)", 
      "results = sparql.query().convert()", 
      "msgs_=results[\"results\"][\"bindings\"]", 
      "msgs=[mm for mm in msgs_ if (\"titulo\" not in mm.keys()) or", 
      "      ((\"teste de stress\" not in mm[\"titulo\"][\"value\"].lower())", 
      "      or (\"cbody\" not in mm.keys() or (\"comunidade de desenvolvedores e nesse caso, quanto mais\"", 
      "           not in mm[\"cbody\"][\"value\"].lower())))]", 
      "textos1=[i[\"cbody\"][\"value\"] for i in msgs if \"cbody\" in i.keys()]", 
      "textos2=[i[\"abody\"][\"value\"] for i in msgs if \"abody\" in i.keys()]", 
      "textos=textos1+textos2", 
      "# faz BoW e guarda num dict", 
      "texto=string.join(textos).lower()", 
      "texto_= ''.join(ch for ch in texto if ch not in EXCLUDE)", 
      "", 
      "texto__=texto_.split()", 
      "#texto___=[stemmer.stem(pp) for pp in texto__]", 
      "texto___=[stemmer.stem(pp) for pp in texto__ if (pp not in STOPWORDS) and (not pp.isdigit())]", 
      "fdist=k.FreqDist(texto___)", 
      "palavras_escolhidas=fdist.keys()[:400]", 
      "__builtin__.palavras_escolhidas=palavras_escolhidas", 
      "__builtin__.fdist=fdist", 
      "print(\"demorou %.2f segundos para fazer a BoW\"%(time.time()-T,))"
     ], 
     "language": "python", 
     "outputs": [
      {
       "output_type": "stream", 
       "stream": "stdout", 
       "text": [
        "demorou 129.17 segundos para fazer a BoW"
       ]
      }
     ], 
     "prompt_number": 84
    }, 
    {
     "cell_type": "code", 
     "collapsed": false, 
     "input": [
      "print(u\"s\u00e3o %i textos postados e %i coment\u00e1rios,\\n\\", 
      "  totalizando %i palavras informativas em %i radicais\"%", 
      "      (len(textos1), len(textos2),len(texto___), fdist.B()))"
     ], 
     "language": "python", 
     "outputs": [
      {
       "output_type": "stream", 
       "stream": "stdout", 
       "text": [
        "s\u00e3o 16253 textos postados e 1554 coment\u00e1rios,", 
        "  totalizando 2477698 palavras informativas em 18233 radicais"
       ]
      }
     ], 
     "prompt_number": 70
    }, 
    {
     "cell_type": "markdown", 
     "source": [
      "###BoW de cada participante"
     ]
    }, 
    {
     "cell_type": "code", 
     "collapsed": false, 
     "input": [
      "T=time.time()", 
      "q=\"\"\"SELECT DISTINCT ?participante", 
      "       WHERE {", 
      "          ?foo dc:contributor ?participante .", 
      "       }\"\"\"", 
      "sparql=SPARQLWrapper(URL_ENDPOINT_)", 
      "sparql.setQuery(PREFIX+q)", 
      "sparql.setReturnFormat(JSON)", 
      "results = sparql.query().convert()", 
      "participantes_=results[\"results\"][\"bindings\"]", 
      "participantes=[i[\"participante\"][\"value\"] for i in participantes_]", 
      "# inicia loop", 
      "if \"palavras_escolhidas\" not in dir(__builtin__):", 
      "    print(u\"rode BoW antes, para saber do vocabul\u00e1rio geral do portal\")", 
      "else:", 
      "    palavras_escolhidas=__builtin__.palavras_escolhidas", 
      "bows={}", 
      "for participante in participantes:", 
      "    # puxa todos os comentarios de cada usuario", 
      "    # e os article bodys", 
      "    q=\"\"\"SELECT DISTINCT ?abody ?cbody", 
      "         WHERE {", 
      "           <%s> ops:performsParticipation ?participacao.", 
      "             OPTIONAL { ?participacao schema:articleBody ?abody. }", 
      "             OPTIONAL { ?participacao schema:text ?cbody. }", 
      "             OPTIONAL {?comentario dc:title ?titulo . }", 
      "         }\"\"\"%(participante,)", 
      "    sparql = SPARQLWrapper(\"http://localhost:82/participabr/query\")", 
      "    sparql.setQuery(PREFIX+q)", 
      "    sparql.setReturnFormat(JSON)", 
      "    results = sparql.query().convert()", 
      "    results_=results[\"results\"][\"bindings\"]", 
      "    textos1=[i[\"cbody\"][\"value\"] for i in results_ if \"cbody\" in i.keys()]", 
      "    textos2=[i[\"abody\"][\"value\"] for i in results_ if \"abody\" in i.keys()]", 
      "    textos=textos1+textos2", 
      "    # faz BoW e guarda num dict", 
      "    texto=string.join(textos).lower()", 
      "    texto_= ''.join(ch for ch in texto if ch not in EXCLUDE)", 
      "    texto__=texto_.split()", 
      "    texto___=[stemmer.stem(pp) for pp in texto__ if (pp not in STOPWORDS) and (not pp.isdigit())]", 
      "    fdist=k.FreqDist(texto___)", 
      "    ocorrencias=[fdist[i] for i in palavras_escolhidas]", 
      "    bows[participante]=(fdist,ocorrencias)", 
      "__builtin__.bows=bows", 
      "len(texto___)", 
      "print(\"%.2f segundos para fazer BoW de cada participante\",(T-time.time(),))"
     ], 
     "language": "python", 
     "outputs": [], 
     "prompt_number": "*"
    }, 
    {
     "cell_type": "code", 
     "collapsed": true, 
     "input": [], 
     "language": "python", 
     "outputs": []
    }
   ]
  }
 ]
}