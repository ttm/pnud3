{
 "metadata": {
  "name": "2. Sele\u00e7\u00e3o por rankeamento e limiar"
 }, 
 "nbformat": 2, 
 "worksheets": [
  {
   "cells": [
    {
     "cell_type": "markdown", 
     "source": [
      "## 2. Sele\u00e7\u00e3o de conte\u00fado por rankeamento (e.g. por tamanho de palavras) e limiar (e.g. n\u00famero m\u00ednimo de palavras)", 
      "importanto bibliotecas \u00fateis:"
     ]
    }, 
    {
     "cell_type": "code", 
     "collapsed": true, 
     "input": [
      "from SPARQLWrapper import SPARQLWrapper, JSON", 
      "import time, numpy as n, nltk as k"
     ], 
     "language": "python", 
     "outputs": [], 
     "prompt_number": 54
    }, 
    {
     "cell_type": "markdown", 
     "source": [
      "Defini\u00e7\u00e3o de prefixos \u00fateis para as triplas rdf:"
     ]
    }, 
    {
     "cell_type": "code", 
     "collapsed": true, 
     "input": [
      "PREFIX=\"\"\"PREFIX rdf: <http://www.w3.org/1999/02/22-rdf-syntax-ns#>", 
      "PREFIX rdfs: <http://www.w3.org/2000/01/rdf-schema#>", 
      "PREFIX ops: <http://purl.org/socialparticipation/ops#>", 
      "PREFIX opa: <http://purl.org/socialparticipation/opa#>", 
      "PREFIX foaf: <http://xmlns.com/foaf/0.1/>", 
      "PREFIX dc: <http://purl.org/dc/terms/>", 
      "PREFIX tsioc: <http://rdfs.org/sioc/types#>", 
      "PREFIX schema: <http://schema.org/>\"\"\""
     ], 
     "language": "python", 
     "outputs": [], 
     "prompt_number": 55
    }, 
    {
     "cell_type": "markdown", 
     "source": [
      "Buscando todos os coment\u00e1rios no endpoint SparQL disparado pelo Jena:"
     ]
    }, 
    {
     "cell_type": "code", 
     "collapsed": false, 
     "input": [
      "NOW=time.time()", 
      "q=\"SELECT ?comentario ?titulo ?texto WHERE \\", 
      "           {?comentario dc:type tsioc:Comment.\\", 
      "          OPTIONAL {?comentario dc:title ?titulo . }\\", 
      "           OPTIONAL {?comentario schema:text ?texto .}}\"", 
      "sparql3 = SPARQLWrapper(\"http://localhost:82/participabr/query\")", 
      "sparql3.setQuery(PREFIX+q)", 
      "sparql3.setReturnFormat(JSON)", 
      "results4 = sparql3.query().convert()", 
      "print(\"%.2f segundos para puxar todos os coment\u00e1rios do Participa.br\"%(time.time()-NOW,))"
     ], 
     "language": "python", 
     "outputs": [
      {
       "output_type": "stream", 
       "stream": "stdout", 
       "text": [
        "2.34 segundos para puxar todos os coment\u00e1rios do Participa.br"
       ]
      }
     ], 
     "prompt_number": 56
    }, 
    {
     "cell_type": "markdown", 
     "source": [
      "Limpando mensagens das sugeiras do BD:"
     ]
    }, 
    {
     "cell_type": "code", 
     "collapsed": true, 
     "input": [
      "msgs_=results4[\"results\"][\"bindings\"]", 
      "msgs=[mm for mm in msgs_ if (\"titulo\" not in mm.keys()) or ((\"teste de stress\" not in mm[\"titulo\"][\"value\"].lower())", 
      "      and (\"comunidade de desenvolvedores e nesse caso, quanto mais\" not in mm[\"texto\"][\"value\"].lower()))]"
     ], 
     "language": "python", 
     "outputs": [], 
     "prompt_number": 57
    }, 
    {
     "cell_type": "markdown", 
     "source": [
      "Fazendo fun\u00e7\u00e3o para extrair atributos das mensagens:"
     ]
    }, 
    {
     "cell_type": "code", 
     "collapsed": true, 
     "input": [
      "import string, numpy as n", 
      "exclude = set(string.punctuation+u'\\u201c'+u'\\u2018'+u'\\u201d'+u'\\u2022'+u'\\u2013')", 
      "def atributos(__msg):", 
      "    texto=__msg[\"texto\"][\"value\"]", 
      "    texto_ = ''.join(ch for ch in texto if ch not in exclude)", 
      "    palavras=texto_.split()", 
      "    tams=[]", 
      "    for palavra in palavras:", 
      "        tams.append(len(palavra))", 
      "    return len(tams), n.mean(tams), n.std(tams)"
     ], 
     "language": "python", 
     "outputs": [], 
     "prompt_number": 58
    }, 
    {
     "cell_type": "markdown", 
     "source": [
      "Criando vetor de atributos de cada mensagem:"
     ]
    }, 
    {
     "cell_type": "code", 
     "collapsed": true, 
     "input": [
      "atrs=[]", 
      "for msg in msgs:", 
      "    atrs.append(atributos(msg))", 
      "atrs_=n.array(atrs)"
     ], 
     "language": "python", 
     "outputs": [], 
     "prompt_number": 59
    }, 
    {
     "cell_type": "markdown", 
     "source": [
      "Fazendo sele\u00e7\u00e3o das mensagens que possuem entre 110 e 115 mensagens:"
     ]
    }, 
    {
     "cell_type": "code", 
     "collapsed": false, 
     "input": [
      "max_palavras=115", 
      "min_palavras=110", 
      "n_msgs=((atrs_[:,0]>min_palavras)*(atrs_[:,0]<max_palavras)).sum()", 
      "print(u\"s\u00e3o %i mensagens com mais de %i palavras e menos de %i\"%", 
      "      (n_msgs, min_palavras, max_palavras) )"
     ], 
     "language": "python", 
     "outputs": [
      {
       "output_type": "stream", 
       "stream": "stdout", 
       "text": [
        "s\u00e3o 26 mensagens com mais de 110 palavras e menos de 115"
       ]
      }
     ], 
     "prompt_number": 60
    }, 
    {
     "cell_type": "markdown", 
     "source": [
      "Selecionando mensagems com m\u00e9dia do tamanho da palavra maior que 6 caract\u00e9res:"
     ]
    }, 
    {
     "cell_type": "code", 
     "collapsed": false, 
     "input": [
      "msgs_i=((atrs_[:,0]>min_palavras)*(atrs_[:,0]<max_palavras)).nonzero()[0]", 
      "textos=[[msgs[i][\"texto\"][\"value\"] for i in msgs_i][j]", 
      "        for j in (atrs_[msgs_i][:,1]>6.).nonzero()[0]]", 
      "for texto in textos: print texto+\"\\n=======\""
     ], 
     "language": "python", 
     "outputs": [
      {
       "output_type": "stream", 
       "stream": "stdout", 
       "text": [
        "1. Auxiliar na divulga\u00e7\u00e3o das informa\u00e7\u00f5es jur\u00eddicas para estrangeiros por meio de projetos de longo prazo dentro no \u00e2mbito das pr\u00f3prias universidades (ex. immigration/refugee law clinics), estimulando-se a parceria com as institui\u00e7\u00f5es, organiza\u00e7\u00f5es e programas/projetos relacionados \u00e0 tem\u00e1tica migrat\u00f3ria;", 
        "2. Inserir na nova pol\u00edtica migrat\u00f3ria a capacita\u00e7\u00e3o/forma\u00e7\u00e3o espec\u00edfica para agentes p\u00fablicos (obrigat\u00f3ria) que atuam ou possam vir a atuar em raz\u00e3o de suas atribui\u00e7\u00f5es institucionais com migrantes, refugiados e ap\u00e1tridas. Nesse sentido, a experi\u00eancia e contribui\u00e7\u00e3o da academia ser\u00e1 fundamental do ponto de vista da expertise cient\u00edfica (ensino e pesquisa - colabora\u00e7\u00e3o para o conte\u00fado program\u00e1tico da capacita\u00e7\u00e3o), al\u00e9m de refor\u00e7ar a import\u00e2ncia do ensino do Direito Internacional e Direitos Humanos nas Universidades.", 
        "", 
        "=======", 
        "ROSAS, Agostinho da Silva; MELO NETO, Jos\u00e9 Francisco de. Educa\u00e7\u00e3o Popular: Enunciados Te\u00f3ricos. Jo\u00e3o Pessoa: Editora Universit\u00e1ria da UFPB, 2008. ", 
        "", 
        "Os autores buscam delimitar um campo da educa\u00e7\u00e3o em que seja poss\u00edvel delinearem-se caracter\u00edsticas que apenas \u00e0 educa\u00e7\u00e3o popular fa\u00e7am parte. Trata-se de um esfor\u00e7o de apresenta\u00e7\u00e3o de constituintes com dimens\u00f5es formadoras, tendo como aspectos centrais as experi\u00eancias de v\u00e1rios educadores populares e as reflex\u00f5es em desenvolvimento na \u00e9poca. Nessa perspectiva, s\u00e3o abordadas a experi\u00eancia hist\u00f3rica, a cultura, o popular, a realidade, o trabalho, a autonomia, a liberdade e a igualdade como componentes fundantes para a realiza\u00e7\u00e3o de pr\u00e1ticas em educa\u00e7\u00e3o popular, lastreados pela dimens\u00e3o \u00e9tica do di\u00e1logo. ", 
        "", 
        "Dispon\u00edvel em: ", 
        "http://www.prac.ufpb.br/copac/extelar/producao_academica/livros/pa_l_2004_educacao_popular_enunciados_teoricos.pdf", 
        "======="
       ]
      }
     ], 
     "prompt_number": 61
    }, 
    {
     "cell_type": "markdown", 
     "source": [
      "Selecionando mensagems com m\u00e9dia do tamanho da palavra menos que 5 caract\u00e9res:"
     ]
    }, 
    {
     "cell_type": "code", 
     "collapsed": false, 
     "input": [
      "textos=[[msgs[i][\"texto\"][\"value\"] for i in msgs_i][j]", 
      "        for j in (atrs_[msgs_i][:,1]<5.).nonzero()[0]]", 
      "for texto in textos: print texto+\"\\n=======\""
     ], 
     "language": "python", 
     "outputs": [
      {
       "output_type": "stream", 
       "stream": "stdout", 
       "text": [
        "Seria suave aos ouvidos ver que a popula\u00e7\u00e3o participando e contribuindo pode notar que seus desejos desde que na medida do poss\u00edvel est\u00e3o sendo ouvidos e colocado em pr\u00e1tica.", 
        "A popula\u00e7\u00e3o cansou, pois at\u00e9 coloca sua cara pra bater, por\u00e9m na hora de colocar em pr\u00e1tica o que tanto desejam nada acontece.", 
        "O que resta, a saber, se quando a popula\u00e7\u00e3o participar da constru\u00e7\u00e3o das pol\u00edticas publicas, deixara suas vontades o campo da teoria para o campo da pr\u00e1tica, muito dif\u00edcil isso ocorrer ou talvez imposs\u00edvel, pois o desejo da popula\u00e7\u00e3o praticamente em todos as vezes e momentos que \u00e9 aferida suas vontades, s\u00e3o deixados de lado, isso \u00e9 uma pena.", 
        "", 
        "=======", 
        "O \u00a71\u00ba \u00e9 a atividade ou a\u00e7\u00e3o natural, o principio de oficio ou por assim dizer a o fato singular do GT.", 
        "", 
        "O \u00a72\u00ba \u00e9 a preposi\u00e7\u00f5es facultadas que podem ou n\u00e3o advir, em conformidade das necessidades observadas na decorr\u00eancia do \u00a71\u00ba, ou seja, dependente do \u00a71\u00ba.", 
        "", 
        "O \u00a73\u00ba \u00e9 mais f\u00e1cil, pois n\u00e3o h\u00e1 registros do que n\u00e3o aconteceu, ent\u00e3o a referencia, por l\u00f3gica, deve ser a ultima.", 
        "", 
        "N\u00e3o me ative em pensar em mesmo m\u00e9todo com os incisos, por serem muitos e n\u00e3o existe espa\u00e7o para estabelecer a desfigura\u00e7\u00e3o, observando que o contexto das determina\u00e7\u00f5es estarem em eleva\u00e7\u00e3o de import\u00e2ncia, mesmo que a ordena\u00e7\u00e3o ou 'cronologia' traga maior facilidade de compreens\u00e3o. ", 
        "=======", 
        "Laura, essa altera\u00e7\u00e3o legislativa \u00e9 muito importante. \u00c9 muito desproporcional exigir que o migrante tenha que indicar uma reparti\u00e7\u00e3o consular em outro pa\u00eds para obter o visto. O fundamento est\u00e1 no fato de que o Estatuto do Estrangeiro n\u00e3o permite concess\u00e3o de visto a quem est\u00e1 irregular. Mas \u00e9 poss\u00edvel uma interpreta\u00e7\u00e3o sistem\u00e1tica e razo\u00e1vel da norma, para que seja feita uma distin\u00e7\u00e3o para os estrangeiros indocumentados (que est\u00e3o ainda sem o visto mas que t\u00eam o direito \u00e0 regulariza\u00e7\u00e3o migrat\u00f3ria, como por exemplo por motivo de reuni\u00e3o familiar). Exigir que o estrangeiro que j\u00e1 est\u00e1 no Brasil tenha que sair do pa\u00eds apenas para buscar o visto \u00e9 muito oneroso e desproporcional.", 
        "======="
       ]
      }
     ], 
     "prompt_number": 62
    }, 
    {
     "cell_type": "markdown", 
     "source": [
      "Fazendo contagem das palavras mais frequentes para sele\u00e7\u00e3o:"
     ]
    }, 
    {
     "cell_type": "code", 
     "collapsed": false, 
     "input": [
      "NOW=time.time()", 
      "import string, nltk as k", 
      "palavras=string.join([i[\"texto\"][\"value\"].lower() for i in msgs])", 
      "exclude = set(string.punctuation+u'\\u201c'+u'\\u2018'+u'\\u201d'+u'\\u2022'+u'\\u2013')", 
      "palavras = ''.join(ch for ch in palavras if ch not in exclude)", 
      "palavras_=palavras.split()", 
      "print(u\"feita lista de todas as palavras de todos os coment\u00e1rios em %.2f\"%(time.time()-NOW,))", 
      "stopwords = set(k.corpus.stopwords.words('portuguese'))", 
      "palavras__=[pp for pp in palavras_ if pp not in stopwords]", 
      "fdist_=k.FreqDist(palavras__)", 
      "print(\"retiradas stopwords feita contagem das palavras em %.2f\"%(time.time()-NOW,))"
     ], 
     "language": "python", 
     "outputs": [
      {
       "output_type": "stream", 
       "stream": "stdout", 
       "text": [
        "feita lista de todas as palavras de todos os coment\u00e1rios em 0.17", 
        "retiradas stopwords feita contagem das palavras em 0.45"
       ]
      }, 
      {
       "output_type": "stream", 
       "stream": "stdout", 
       "text": []
      }
     ], 
     "prompt_number": 63
    }, 
    {
     "cell_type": "markdown", 
     "source": [
      "Fazendo sele\u00e7\u00e3o das 14 palavras mais incidentes nos coment\u00e1rios do Participa.br:"
     ]
    }, 
    {
     "cell_type": "code", 
     "collapsed": false, 
     "input": [
      "for fd,ii in [(fdist_[i],i) for i in fdist_.keys()[:14]]: print fd, ii"
     ], 
     "language": "python", 
     "outputs": [
      {
       "output_type": "stream", 
       "stream": "stdout", 
       "text": [
        "1277 \u00e9", 
        "1256 n\u00e3o", 
        "762 ser", 
        "717 participa\u00e7\u00e3o", 
        "548 social", 
        "526 sociedade", 
        "468 \u00e0", 
        "459 sobre", 
        "367 governo", 
        "357 s\u00e3o", 
        "337 forma", 
        "327 pol\u00edticas", 
        "310 p\u00fablicas", 
        "302 brasil"
       ]
      }
     ], 
     "prompt_number": 65
    }, 
    {
     "cell_type": "markdown", 
     "source": [
      "### |||--- FIM ---||| ###"
     ]
    }
   ]
  }
 ]
}