{
 "metadata": {
  "name": "cidade democr\u00e1tica, aa e participa"
 }, 
 "nbformat": 2, 
 "worksheets": [
  {
   "cells": [
    {
     "cell_type": "code", 
     "collapsed": true, 
     "input": [
      "from SPARQLWrapper import SPARQLWrapper, JSON", 
      "import networkx as x, nltk as k", 
      "import string, time, __builtin__", 
      "import cPickle as pickle"
     ], 
     "language": "python", 
     "outputs": [], 
     "prompt_number": 2
    }, 
    {
     "cell_type": "code", 
     "collapsed": true, 
     "input": [
      "URL_ENDPOINT=\"http://localhost:82\"", 
      "DATASET1=\"participabr\"", 
      "DATASET2=\"aa\"", 
      "DATASET3=\"cidadedemocratica\"", 
      "URL_QUERY1=\"%s/%s/query\"%(URL_ENDPOINT,DATASET1)", 
      "URL_QUERY2=\"%s/%s/query\"%(URL_ENDPOINT,DATASET2)", 
      "URL_QUERY3=\"%s/%s/query\"%(URL_ENDPOINT,DATASET3)", 
      "EXCLUDE=set(string.punctuation+u'\\u201c'+u'\\u2018'+u'\\u201d'+u'\\u2022'+u'\\u2013')", 
      "STOPWORDS=set(k.corpus.stopwords.words('portuguese'))", 
      "PREFIX=\"\"\"PREFIX rdf: <http://www.w3.org/1999/02/22-rdf-syntax-ns#>", 
      "PREFIX rdfs: <http://www.w3.org/2000/01/rdf-schema#>", 
      "PREFIX ops: <http://purl.org/socialparticipation/ops#>", 
      "PREFIX opa: <http://purl.org/socialparticipation/opa#>", 
      "PREFIX foaf: <http://xmlns.com/foaf/0.1/>", 
      "PREFIX dc: <http://purl.org/dc/elements/1.1/>", 
      "PREFIX dct: <http://purl.org/dc/terms/>", 
      "PREFIX dcty: <http://purl.org/dc/dcmitype/>", 
      "PREFIX tsioc: <http://rdfs.org/sioc/types#>", 
      "PREFIX sioc: <http://rdfs.org/sioc/ns#>", 
      "PREFIX schema: <http://schema.org/>", 
      "PREFIX aa: <http://purl.org/socialparticipation/aa/>", 
      "PREFIX ocd: <http://purl.org/socialparticipation/ocd/>\"\"\"", 
      "stemmer = k.stem.RSLPStemmer()"
     ], 
     "language": "python", 
     "outputs": [], 
     "prompt_number": 19
    }, 
    {
     "cell_type": "code", 
     "collapsed": false, 
     "input": [
      "NOW=time.time()", 
      "q=\"\"\"SELECT DISTINCT ?s ?name", 
      "       WHERE {", 
      "          ?s a ocd:User .", 
      "          ?s ocd:name ?name", 
      "       }\"\"\"", 
      "sparql2 = SPARQLWrapper(URL_QUERY3)", 
      "sparql2.setQuery(PREFIX+q)", 
      "sparql2.setReturnFormat(JSON)", 
      "results = sparql2.query().convert()", 
      "print(\"%.2f segundos para puxar todos os sujeitos\"%", 
      "      (time.time()-NOW,))"
     ], 
     "language": "python", 
     "outputs": [
      {
       "output_type": "stream", 
       "stream": "stdout", 
       "text": [
        "0.70 segundos para puxar todos os sujeitos"
       ]
      }
     ], 
     "prompt_number": 59
    }, 
    {
     "cell_type": "code", 
     "collapsed": false, 
     "input": [
      "nomes=[i[\"name\"][\"value\"] for i in results[\"results\"][\"bindings\"]]", 
      "for nome in nomes[:10]: print nome"
     ], 
     "language": "python", 
     "outputs": [
      {
       "output_type": "stream", 
       "stream": "stdout", 
       "text": [
        "Andrea Mieko", 
        "Larissa Drozdowski Priosta", 
        "Luiz Bouabci", 
        "Maria Aparecida Jesus Souza", 
        "Cecilia Herzog", 
        "Elisa Crisma Carano", 
        "Leda Maria da Rocha Seixas", 
        "Michele Pereira de Ara\u00fajo", 
        "Beto", 
        "Isabella Saldanha"
       ]
      }
     ], 
     "prompt_number": 30
    }, 
    {
     "cell_type": "code", 
     "collapsed": false, 
     "input": [
      "NOW=time.time()", 
      "q2=\"\"\"SELECT DISTINCT ?s ?name ?em ?ph", 
      "       WHERE {", 
      "          ?s a ocd:User .", 
      "          ?s ocd:name ?name .", 
      "  OPTIONAL { ?s ocd:mbox ?em } ", 
      "  OPTIONAL { ?s ocd:phone ?ph } ", 
      "       }\"\"\"", 
      "sparql2 = SPARQLWrapper(URL_QUERY3)", 
      "sparql2.setQuery(PREFIX+q2)", 
      "sparql2.setReturnFormat(JSON)", 
      "results = sparql2.query().convert()", 
      "print(\"%.2f segundos para puxar todos os sujeitos com telefone e email\"%", 
      "      (time.time()-NOW,))"
     ], 
     "language": "python", 
     "outputs": [
      {
       "output_type": "stream", 
       "stream": "stdout", 
       "text": [
        "1.12 segundos para puxar todos os sujeitos com telefone e email"
       ]
      }
     ], 
     "prompt_number": 60
    }, 
    {
     "cell_type": "code", 
     "collapsed": false, 
     "input": [
      "#nomes=[(i[\"name\"][\"value\"],i[\"em\"][\"value\"],i[\"ph\"][\"value\"]) for i in results[\"results\"][\"bindings\"]]", 
      "#for nome in nomes[:10]: print nome", 
      "for result in results[\"results\"][\"bindings\"][:15]:", 
      "    em,ph=\"\",\"\"", 
      "    if \"em\" in result.keys():        ", 
      "        em= result[\"em\"][\"value\"].split(\":\")[1]", 
      "    if \"ph\" in result.keys():", 
      "        ph= result[\"ph\"][\"value\"]", 
      "    print result[\"name\"][\"value\"],em,ph"
     ], 
     "language": "python", 
     "outputs": [
      {
       "output_type": "stream", 
       "stream": "stdout", 
       "text": [
        "Andrea Mieko meumundosustentavel@hotmail.com (21)93470045", 
        "Larissa Drozdowski Priosta larissadrozdowski@hotmail.com ", 
        "Luiz Bouabci luizbcn@hotmail.com (11)81233480", 
        "Maria Aparecida Jesus Souza ikam_2010@hotmail.com (11) 45874784", 
        "Cecilia Herzog ceciliapherzog@gmail.com ", 
        "Elisa Crisma Carano elisacrismacarano@gmail.com (11) 9713-9692", 
        "Leda Maria da Rocha Seixas leseixas@hotmail.com 1981817974", 
        "Michele Pereira de Ara\u00fajo dearaujo.michele@yahoo.com.br ", 
        "Beto betoint@gmail.com 12-8822-0990", 
        "Isabella Saldanha isabella.saldanha@hotmail.com ", 
        "Jo\u00e3o Bazolli jbazolli@gmail.com (63)32328024", 
        "Carlos R Concei\u00e7\u00e3o carrocon@yahoo.com.br (11)83826634", 
        "LUCIANA MILAN lumilan.milan@gmail.com 11 45227380", 
        "rafael sandrini rafa.sandrini@hotmail.com ", 
        "Marcos Santos da Silva mss_diogenes@hotmail.com (22) 0000-0000"
       ]
      }
     ], 
     "prompt_number": 51
    }, 
    {
     "cell_type": "code", 
     "collapsed": false, 
     "input": [
      "NOW=time.time()", 
      "q2=\"\"\"SELECT ?ob ?name ?data ?data2 ?tag", 
      "       WHERE {", 
      "          ?ob a ocd:Observatory .", 
      "          ?ob ocd:created ?data .", 
      "      OPTIONAL { ?ob ocd:updated ?data2 . }", 
      "          ?ob ocd:user ?user .", 
      "          ?user ocd:name ?name .", 
      "          ?tagg ocd:tagged ?ob .", 
      "          ?tagg ocd:text ?tag .", 
      "       }\"\"\"", 
      "sparql2 = SPARQLWrapper(URL_QUERY3)", 
      "sparql2.setQuery(PREFIX+q2)", 
      "sparql2.setReturnFormat(JSON)", 
      "results = sparql2.query().convert()", 
      "print(\"%.2f segundos para puxar todos os sujeitos\"%", 
      "      (time.time()-NOW,))", 
      "", 
      "print(\"observatorio do usuario x atualizado em y, tags: z\")"
     ], 
     "language": "python", 
     "outputs": [
      {
       "output_type": "stream", 
       "stream": "stdout", 
       "text": [
        "5.16 segundos para puxar todos os sujeitos", 
        "observatorio do usuario x atualizado em y, tags: z"
       ]
      }
     ], 
     "prompt_number": 141
    }, 
    {
     "cell_type": "code", 
     "collapsed": false, 
     "input": [
      "for res in results[\"results\"][\"bindings\"][:5]:", 
      "    print(\"observatorio %s de %s, atualizado em %s possui a tag: %s\"%", 
      "          (res[\"ob\"][\"value\"].split(\"#\")[1],res[\"name\"][\"value\"],", 
      "           res[\"data\"][\"value\"],res[\"tag\"][\"value\"]))"
     ], 
     "language": "python", 
     "outputs": [
      {
       "output_type": "stream", 
       "stream": "stdout", 
       "text": [
        "observatorio 1567 de Liliane Daineze Lelis dos Santos ( Ane), atualizado em 2011-10-06T03:24:39 possui a tag: preserva\u00e7\u00e3o ambiental", 
        "observatorio 1598 de Olga Maroso Hajj, atualizado em 2011-10-20T17:35:38 possui a tag: #AgendaCidad\u00e3", 
        "observatorio 1598 de Olga Maroso Hajj, atualizado em 2011-10-20T17:35:38 possui a tag: #Sociedade", 
        "observatorio 1598 de Olga Maroso Hajj, atualizado em 2011-10-20T17:35:38 possui a tag: #POBREZA", 
        "observatorio 1598 de Olga Maroso Hajj, atualizado em 2011-10-20T17:35:38 possui a tag: #educa\u00e7\u00e3o #s\u00e3opaulo #professores"
       ]
      }
     ], 
     "prompt_number": 131
    }, 
    {
     "cell_type": "markdown", 
     "source": [
      "### Tags por observatorio, junto ao participante e data de criacao"
     ]
    }, 
    {
     "cell_type": "code", 
     "collapsed": false, 
     "input": [
      "mem=\"\"", 
      "for res in results[\"results\"][\"bindings\"][360:380]:", 
      "    if res[\"ob\"][\"value\"] == mem:", 
      "        exp=(\"possui a tag: %s\"%(res[\"tag\"][\"value\"],))", 
      "    else:", 
      "        if \"data2\" in res.keys():", 
      "            data=res[\"data2\"][\"value\"]", 
      "        else:", 
      "            data=res[\"data\"][\"value\"]", 
      "        exp=(\"\\nobservatorio %s de %s, atualizado em %s possui a tag: %s\"%", 
      "          (res[\"ob\"][\"value\"].split(\"#\")[1],res[\"name\"][\"value\"],", 
      "           data,res[\"tag\"][\"value\"]))", 
      "    print(exp)", 
      "    mem=res[\"ob\"][\"value\"]"
     ], 
     "language": "python", 
     "outputs": [
      {
       "output_type": "stream", 
       "stream": "stdout", 
       "text": [
        "", 
        "observatorio 1999 de Fernanda Elisabeth Guimar\u00e3es Martins, atualizado em 2012-10-13T03:17:08 possui a tag: abuso de poder", 
        "possui a tag: amor", 
        "possui a tag: antropologia", 
        "possui a tag: ambiente pol\u00edcia", 
        "", 
        "observatorio 1044 de Edilson Joaquim Bastos, atualizado em 2010-12-28T00:13:05 possui a tag: corresposabilidade", 
        "", 
        "observatorio 734 de Diogo Batista Soares, atualizado em 2010-07-22T03:51:10 possui a tag: transpar\u00eancia", 
        "possui a tag: #educa\u00e7\u00e3o #treinamento #professor #escola", 
        "possui a tag: transpar\u00eancia transparencia p\u00fablico publico municipal mongagu\u00e1 litoral cidad\u00e3o brasil pol\u00edtica democracia", 
        "possui a tag: transporte", 
        "possui a tag: pol\u00edtica", 
        "possui a tag: gera\u00e7\u00e3o de renda", 
        "possui a tag: governo", 
        "possui a tag: corrup\u00e7\u00e3o", 
        "possui a tag: transito", 
        "", 
        "observatorio 1406 de Ana Paula Lisboa Rodrigues, atualizado em 2011-07-22T21:34:27 possui a tag: sa\u00fade e bem-estar", 
        "possui a tag: @votojundiai", 
        "possui a tag: #educa\u00e7\u00e3o #jundia\u00ed #prefeitura #universidade", 
        "possui a tag: sa\u00fade e seguran\u00e7a. o caos da grande s\u00e3o paulo", 
        "possui a tag: saude do trabalhador", 
        "possui a tag: s\u00e1ude"
       ]
      }
     ], 
     "prompt_number": 146
    }, 
    {
     "cell_type": "markdown", 
     "source": []
    }, 
    {
     "cell_type": "code", 
     "collapsed": false, 
     "input": [
      "NOW=time.time()", 
      "q2=\"\"\"SELECT ?ob ?name (GROUP_CONCAT(?tag; SEPARATOR = \", \") as ?tags)", 
      "       WHERE {", 
      "          ?ob a ocd:Observatory .", 
      "          ?ob ocd:user ?user .", 
      "          ?user ocd:name ?name .", 
      "          ?tagg ocd:tagged ?ob .", 
      "          ?tagg ocd:text ?tag .", 
      "       } GROUP BY ?ob ?name\"\"\"", 
      "sparql2 = SPARQLWrapper(URL_QUERY3)", 
      "sparql2.setQuery(PREFIX+q2)", 
      "sparql2.setReturnFormat(JSON)", 
      "results = sparql2.query().convert()", 
      "print(\"%.2f segundos para puxar todos os sujeitos\"%", 
      "      (time.time()-NOW,))", 
      "", 
      "print(\"observatorio do usuario x atualizado em y, tags: z\")"
     ], 
     "language": "python", 
     "outputs": [
      {
       "output_type": "stream", 
       "stream": "stdout", 
       "text": [
        "1.70 segundos para puxar todos os sujeitos", 
        "observatorio do usuario x atualizado em y, tags: z"
       ]
      }
     ], 
     "prompt_number": 186
    }, 
    {
     "cell_type": "code", 
     "collapsed": false, 
     "input": [
      "for res in results[\"results\"][\"bindings\"][:5]:", 
      "    #print res[\"ob\"][\"value\"].split(\"#\")[1], res[\"tags\"][\"value\"],\"\\n\"", 
      "    print \"%s, TAGS: %s\\n\"%(res[\"name\"][\"value\"], res[\"tags\"][\"value\"])"
     ], 
     "language": "python", 
     "outputs": [
      {
       "output_type": "stream", 
       "stream": "stdout", 
       "text": [
        "Carlos Roberto Alves, TAGS: asfalto", 
        "", 
        "Ricardo Machado, TAGS: desmatamento, reserva florestal, educa\u00e7\u00e3o, mata atl\u00e2ntica, meio ambiente, desenvolvimento sustent\u00e1vel, ambiental, reciclagem de lixo que n\u00e3o \u00e9 lixo, aldo rebelo, crescimento, aquecimento, reciclagem de lixo residencial, desenvolvimento sustentavel, reciclagem, impactos ambientais", 
        "", 
        "Gustavo Ferros, TAGS: educa\u00e7\u00e3o. universidade p\u00fablica, educa\u00e7\u00e3o, jovens, varj\u00e3o, jundiai, estudantes, religi\u00e3o, faculdade, valorizacao da vida", 
        "", 
        "maria Fabian Santos Rocha, TAGS: #tr\u00e2nsito", 
        "", 
        "Jose Luiz de Ara\u00fajo, TAGS: tr\u00e2nsito, educa\u00e7\u00e3o, despolui\u00e7\u00e3o, urbanismo, cidadania, pra\u00e7a, transporte, urbaniza\u00e7\u00e3o, coleta", 
        ""
       ]
      }
     ], 
     "prompt_number": 188
    }
   ]
  }
 ]
}